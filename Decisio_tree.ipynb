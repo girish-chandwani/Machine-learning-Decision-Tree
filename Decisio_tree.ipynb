{
 "cells": [
  {
   "cell_type": "markdown",
   "metadata": {},
   "source": [
    "# Decision Tree parameters and classification metrics.\n",
    "\n",
    "\n",
    "In this Notebook, the main objective is to understand the parameters of the Decision Tree model and how to evaluate the model based on the different metrics we studied.\n",
    "\n",
    "By the end of this study you should have:\n",
    "- a good understanding of the effect of the different parameters in the Decision Tree classifier.\n",
    "- gained experience with building the decision matrix and classification metrics."
   ]
  },
  {
   "cell_type": "markdown",
   "metadata": {},
   "source": [
    "### 1 Using nested loops and with a split ratio of 20 testing:80 training, try to find the best combined parameters that provide the best accuracy for the testing dataset from:\n",
    "- max_depth values between 3 and 5 with a step of 1.\n",
    "- max_leaf_nodes values between 10 and 20 with a step of 5.\n",
    "- min_samples_leaf with values between 10 and 25 with a step of 5.\n",
    "\n",
    "Plot your results for the testing and training accuracies for each step.\n",
    "\n",
    "Note: you should end up with 36 plots for the above parameter possible valules."
   ]
  },
  {
   "cell_type": "markdown",
   "metadata": {},
   "source": [
    "## Step 1\n",
    "### Importing packages\n",
    "##### - Numpy packages are used to work on array\n",
    "##### - Pandas packages are used for working on dataframes while fetching the data from csv and while creating features and target dataframe for Machine learning models.\n",
    "##### - Matplotlib packages are used for plotting/visualing the data."
   ]
  },
  {
   "cell_type": "code",
   "execution_count": 1,
   "metadata": {},
   "outputs": [],
   "source": [
    "#Import standard packages\n",
    "\n",
    "import numpy as np\n",
    "import pandas as pd\n",
    "import matplotlib.pyplot as plt"
   ]
  },
  {
   "cell_type": "markdown",
   "metadata": {},
   "source": [
    "## Step 2\n",
    "### Importing data from file\n",
    "##### - using read_csv() function of pandas to fetch the data from our csv file into a dataframe.\n",
    "##### - our dataset is of customer churn data of a telecom company, based on various characteristics we can predict whether the customer will leave or not"
   ]
  },
  {
   "cell_type": "code",
   "execution_count": 2,
   "metadata": {},
   "outputs": [
    {
     "data": {
      "text/html": [
       "<div>\n",
       "<style scoped>\n",
       "    .dataframe tbody tr th:only-of-type {\n",
       "        vertical-align: middle;\n",
       "    }\n",
       "\n",
       "    .dataframe tbody tr th {\n",
       "        vertical-align: top;\n",
       "    }\n",
       "\n",
       "    .dataframe thead th {\n",
       "        text-align: right;\n",
       "    }\n",
       "</style>\n",
       "<table border=\"1\" class=\"dataframe\">\n",
       "  <thead>\n",
       "    <tr style=\"text-align: right;\">\n",
       "      <th></th>\n",
       "      <th>state</th>\n",
       "      <th>account length</th>\n",
       "      <th>area code</th>\n",
       "      <th>phone number</th>\n",
       "      <th>international plan</th>\n",
       "      <th>voice mail plan</th>\n",
       "      <th>number vmail messages</th>\n",
       "      <th>total day minutes</th>\n",
       "      <th>total day calls</th>\n",
       "      <th>total day charge</th>\n",
       "      <th>...</th>\n",
       "      <th>total eve calls</th>\n",
       "      <th>total eve charge</th>\n",
       "      <th>total night minutes</th>\n",
       "      <th>total night calls</th>\n",
       "      <th>total night charge</th>\n",
       "      <th>total intl minutes</th>\n",
       "      <th>total intl calls</th>\n",
       "      <th>total intl charge</th>\n",
       "      <th>customer service calls</th>\n",
       "      <th>churn</th>\n",
       "    </tr>\n",
       "  </thead>\n",
       "  <tbody>\n",
       "    <tr>\n",
       "      <th>0</th>\n",
       "      <td>KS</td>\n",
       "      <td>128</td>\n",
       "      <td>415</td>\n",
       "      <td>382-4657</td>\n",
       "      <td>no</td>\n",
       "      <td>yes</td>\n",
       "      <td>25</td>\n",
       "      <td>265.1</td>\n",
       "      <td>110</td>\n",
       "      <td>45.07</td>\n",
       "      <td>...</td>\n",
       "      <td>99</td>\n",
       "      <td>16.78</td>\n",
       "      <td>244.7</td>\n",
       "      <td>91</td>\n",
       "      <td>11.01</td>\n",
       "      <td>10.0</td>\n",
       "      <td>3</td>\n",
       "      <td>2.70</td>\n",
       "      <td>1</td>\n",
       "      <td>False</td>\n",
       "    </tr>\n",
       "    <tr>\n",
       "      <th>1</th>\n",
       "      <td>OH</td>\n",
       "      <td>107</td>\n",
       "      <td>415</td>\n",
       "      <td>371-7191</td>\n",
       "      <td>no</td>\n",
       "      <td>yes</td>\n",
       "      <td>26</td>\n",
       "      <td>161.6</td>\n",
       "      <td>123</td>\n",
       "      <td>27.47</td>\n",
       "      <td>...</td>\n",
       "      <td>103</td>\n",
       "      <td>16.62</td>\n",
       "      <td>254.4</td>\n",
       "      <td>103</td>\n",
       "      <td>11.45</td>\n",
       "      <td>13.7</td>\n",
       "      <td>3</td>\n",
       "      <td>3.70</td>\n",
       "      <td>1</td>\n",
       "      <td>False</td>\n",
       "    </tr>\n",
       "    <tr>\n",
       "      <th>2</th>\n",
       "      <td>NJ</td>\n",
       "      <td>137</td>\n",
       "      <td>415</td>\n",
       "      <td>358-1921</td>\n",
       "      <td>no</td>\n",
       "      <td>no</td>\n",
       "      <td>0</td>\n",
       "      <td>243.4</td>\n",
       "      <td>114</td>\n",
       "      <td>41.38</td>\n",
       "      <td>...</td>\n",
       "      <td>110</td>\n",
       "      <td>10.30</td>\n",
       "      <td>162.6</td>\n",
       "      <td>104</td>\n",
       "      <td>7.32</td>\n",
       "      <td>12.2</td>\n",
       "      <td>5</td>\n",
       "      <td>3.29</td>\n",
       "      <td>0</td>\n",
       "      <td>False</td>\n",
       "    </tr>\n",
       "    <tr>\n",
       "      <th>3</th>\n",
       "      <td>OH</td>\n",
       "      <td>84</td>\n",
       "      <td>408</td>\n",
       "      <td>375-9999</td>\n",
       "      <td>yes</td>\n",
       "      <td>no</td>\n",
       "      <td>0</td>\n",
       "      <td>299.4</td>\n",
       "      <td>71</td>\n",
       "      <td>50.90</td>\n",
       "      <td>...</td>\n",
       "      <td>88</td>\n",
       "      <td>5.26</td>\n",
       "      <td>196.9</td>\n",
       "      <td>89</td>\n",
       "      <td>8.86</td>\n",
       "      <td>6.6</td>\n",
       "      <td>7</td>\n",
       "      <td>1.78</td>\n",
       "      <td>2</td>\n",
       "      <td>False</td>\n",
       "    </tr>\n",
       "    <tr>\n",
       "      <th>4</th>\n",
       "      <td>OK</td>\n",
       "      <td>75</td>\n",
       "      <td>415</td>\n",
       "      <td>330-6626</td>\n",
       "      <td>yes</td>\n",
       "      <td>no</td>\n",
       "      <td>0</td>\n",
       "      <td>166.7</td>\n",
       "      <td>113</td>\n",
       "      <td>28.34</td>\n",
       "      <td>...</td>\n",
       "      <td>122</td>\n",
       "      <td>12.61</td>\n",
       "      <td>186.9</td>\n",
       "      <td>121</td>\n",
       "      <td>8.41</td>\n",
       "      <td>10.1</td>\n",
       "      <td>3</td>\n",
       "      <td>2.73</td>\n",
       "      <td>3</td>\n",
       "      <td>False</td>\n",
       "    </tr>\n",
       "  </tbody>\n",
       "</table>\n",
       "<p>5 rows × 21 columns</p>\n",
       "</div>"
      ],
      "text/plain": [
       "  state  account length  area code phone number international plan  \\\n",
       "0    KS             128        415     382-4657                 no   \n",
       "1    OH             107        415     371-7191                 no   \n",
       "2    NJ             137        415     358-1921                 no   \n",
       "3    OH              84        408     375-9999                yes   \n",
       "4    OK              75        415     330-6626                yes   \n",
       "\n",
       "  voice mail plan  number vmail messages  total day minutes  total day calls  \\\n",
       "0             yes                     25              265.1              110   \n",
       "1             yes                     26              161.6              123   \n",
       "2              no                      0              243.4              114   \n",
       "3              no                      0              299.4               71   \n",
       "4              no                      0              166.7              113   \n",
       "\n",
       "   total day charge  ...  total eve calls  total eve charge  \\\n",
       "0             45.07  ...               99             16.78   \n",
       "1             27.47  ...              103             16.62   \n",
       "2             41.38  ...              110             10.30   \n",
       "3             50.90  ...               88              5.26   \n",
       "4             28.34  ...              122             12.61   \n",
       "\n",
       "   total night minutes  total night calls  total night charge  \\\n",
       "0                244.7                 91               11.01   \n",
       "1                254.4                103               11.45   \n",
       "2                162.6                104                7.32   \n",
       "3                196.9                 89                8.86   \n",
       "4                186.9                121                8.41   \n",
       "\n",
       "   total intl minutes  total intl calls  total intl charge  \\\n",
       "0                10.0                 3               2.70   \n",
       "1                13.7                 3               3.70   \n",
       "2                12.2                 5               3.29   \n",
       "3                 6.6                 7               1.78   \n",
       "4                10.1                 3               2.73   \n",
       "\n",
       "   customer service calls  churn  \n",
       "0                       1  False  \n",
       "1                       1  False  \n",
       "2                       0  False  \n",
       "3                       2  False  \n",
       "4                       3  False  \n",
       "\n",
       "[5 rows x 21 columns]"
      ]
     },
     "execution_count": 2,
     "metadata": {},
     "output_type": "execute_result"
    }
   ],
   "source": [
    "#https://www.kaggle.com/becksddf/churn-in-telecoms-dataset/data\n",
    "#importing the dataset as dataframe\n",
    "churn_data = pd.read_csv(\"customer_churn.csv\")\n",
    "\n",
    "#Top 5 records of dataset\n",
    "churn_data.head()"
   ]
  },
  {
   "cell_type": "markdown",
   "metadata": {},
   "source": [
    "#### Creating 1000 random index to select 1000 random samples from our data"
   ]
  },
  {
   "cell_type": "code",
   "execution_count": 3,
   "metadata": {},
   "outputs": [
    {
     "name": "stdout",
     "output_type": "stream",
     "text": [
      "1000\n"
     ]
    }
   ],
   "source": [
    "#Index for random 1000\n",
    "idx = np.random.randint(3334, size=1000)\n",
    "print(len(idx))\n",
    "#print(idx)"
   ]
  },
  {
   "cell_type": "markdown",
   "metadata": {},
   "source": [
    "## Step 3\n",
    "### Creating feature and target dataframes\n",
    "\n",
    "* We will create our feature and target dataframes using following steps\n",
    "    -  Select categorical feature and convert it into numeric\n",
    "    -  Select the other important numeric features and dropping less important one\n",
    "    -  Concatinating the converted categorical numeric value with feature to create feature dataframe\n",
    "    -  Creating the target dataframe, by converting it into numeric binary class."
   ]
  },
  {
   "cell_type": "markdown",
   "metadata": {},
   "source": [
    "#### A) Select categorical feature and convert it into numeric"
   ]
  },
  {
   "cell_type": "code",
   "execution_count": 4,
   "metadata": {},
   "outputs": [
    {
     "data": {
      "text/html": [
       "<div>\n",
       "<style scoped>\n",
       "    .dataframe tbody tr th:only-of-type {\n",
       "        vertical-align: middle;\n",
       "    }\n",
       "\n",
       "    .dataframe tbody tr th {\n",
       "        vertical-align: top;\n",
       "    }\n",
       "\n",
       "    .dataframe thead th {\n",
       "        text-align: right;\n",
       "    }\n",
       "</style>\n",
       "<table border=\"1\" class=\"dataframe\">\n",
       "  <thead>\n",
       "    <tr style=\"text-align: right;\">\n",
       "      <th></th>\n",
       "      <th>international plan</th>\n",
       "    </tr>\n",
       "  </thead>\n",
       "  <tbody>\n",
       "    <tr>\n",
       "      <th>0</th>\n",
       "      <td>0</td>\n",
       "    </tr>\n",
       "    <tr>\n",
       "      <th>1</th>\n",
       "      <td>0</td>\n",
       "    </tr>\n",
       "    <tr>\n",
       "      <th>2</th>\n",
       "      <td>0</td>\n",
       "    </tr>\n",
       "    <tr>\n",
       "      <th>3</th>\n",
       "      <td>1</td>\n",
       "    </tr>\n",
       "    <tr>\n",
       "      <th>4</th>\n",
       "      <td>1</td>\n",
       "    </tr>\n",
       "  </tbody>\n",
       "</table>\n",
       "</div>"
      ],
      "text/plain": [
       "   international plan\n",
       "0                   0\n",
       "1                   0\n",
       "2                   0\n",
       "3                   1\n",
       "4                   1"
      ]
     },
     "execution_count": 4,
     "metadata": {},
     "output_type": "execute_result"
    }
   ],
   "source": [
    "#importing LabelEncode from sklearn\n",
    "from sklearn.preprocessing import LabelEncoder\n",
    "\n",
    "#Creating label encoder object\n",
    "le = LabelEncoder()\n",
    "\n",
    "#fitting nd transforming categorical feature into label encoder\n",
    "ip = le.fit_transform((churn_data[['international plan']].values.ravel()).astype('str'))\n",
    "#print(len(ip))\n",
    "ip\n",
    "\n",
    "#creating data frame after transformtion\n",
    "df1 = pd.DataFrame(ip, columns = [\"international plan\"])\n",
    "df1.head()\n",
    "#print(df1.shape)"
   ]
  },
  {
   "cell_type": "markdown",
   "metadata": {},
   "source": [
    "#### B) Select the other important numeric features and dropping less important one"
   ]
  },
  {
   "cell_type": "code",
   "execution_count": 5,
   "metadata": {},
   "outputs": [],
   "source": [
    "#data\n",
    "df = churn_data[['number vmail messages','total day minutes','total day calls','total day charge','total eve calls','total eve charge','total night minutes','total night calls','total night charge','total intl minutes','total intl calls','total intl charge','customer service calls']]"
   ]
  },
  {
   "cell_type": "markdown",
   "metadata": {},
   "source": [
    "#### C) Concatinating the converted categorical numeric value with feature to create feature dataframe"
   ]
  },
  {
   "cell_type": "code",
   "execution_count": 6,
   "metadata": {},
   "outputs": [
    {
     "name": "stdout",
     "output_type": "stream",
     "text": [
      "(3333, 14)\n"
     ]
    },
    {
     "data": {
      "text/html": [
       "<div>\n",
       "<style scoped>\n",
       "    .dataframe tbody tr th:only-of-type {\n",
       "        vertical-align: middle;\n",
       "    }\n",
       "\n",
       "    .dataframe tbody tr th {\n",
       "        vertical-align: top;\n",
       "    }\n",
       "\n",
       "    .dataframe thead th {\n",
       "        text-align: right;\n",
       "    }\n",
       "</style>\n",
       "<table border=\"1\" class=\"dataframe\">\n",
       "  <thead>\n",
       "    <tr style=\"text-align: right;\">\n",
       "      <th></th>\n",
       "      <th>number vmail messages</th>\n",
       "      <th>total day minutes</th>\n",
       "      <th>total day calls</th>\n",
       "      <th>total day charge</th>\n",
       "      <th>total eve calls</th>\n",
       "      <th>total eve charge</th>\n",
       "      <th>total night minutes</th>\n",
       "      <th>total night calls</th>\n",
       "      <th>total night charge</th>\n",
       "      <th>total intl minutes</th>\n",
       "      <th>total intl calls</th>\n",
       "      <th>total intl charge</th>\n",
       "      <th>customer service calls</th>\n",
       "      <th>international plan</th>\n",
       "    </tr>\n",
       "  </thead>\n",
       "  <tbody>\n",
       "    <tr>\n",
       "      <th>0</th>\n",
       "      <td>25</td>\n",
       "      <td>265.1</td>\n",
       "      <td>110</td>\n",
       "      <td>45.07</td>\n",
       "      <td>99</td>\n",
       "      <td>16.78</td>\n",
       "      <td>244.7</td>\n",
       "      <td>91</td>\n",
       "      <td>11.01</td>\n",
       "      <td>10.0</td>\n",
       "      <td>3</td>\n",
       "      <td>2.70</td>\n",
       "      <td>1</td>\n",
       "      <td>0</td>\n",
       "    </tr>\n",
       "    <tr>\n",
       "      <th>1</th>\n",
       "      <td>26</td>\n",
       "      <td>161.6</td>\n",
       "      <td>123</td>\n",
       "      <td>27.47</td>\n",
       "      <td>103</td>\n",
       "      <td>16.62</td>\n",
       "      <td>254.4</td>\n",
       "      <td>103</td>\n",
       "      <td>11.45</td>\n",
       "      <td>13.7</td>\n",
       "      <td>3</td>\n",
       "      <td>3.70</td>\n",
       "      <td>1</td>\n",
       "      <td>0</td>\n",
       "    </tr>\n",
       "    <tr>\n",
       "      <th>2</th>\n",
       "      <td>0</td>\n",
       "      <td>243.4</td>\n",
       "      <td>114</td>\n",
       "      <td>41.38</td>\n",
       "      <td>110</td>\n",
       "      <td>10.30</td>\n",
       "      <td>162.6</td>\n",
       "      <td>104</td>\n",
       "      <td>7.32</td>\n",
       "      <td>12.2</td>\n",
       "      <td>5</td>\n",
       "      <td>3.29</td>\n",
       "      <td>0</td>\n",
       "      <td>0</td>\n",
       "    </tr>\n",
       "    <tr>\n",
       "      <th>3</th>\n",
       "      <td>0</td>\n",
       "      <td>299.4</td>\n",
       "      <td>71</td>\n",
       "      <td>50.90</td>\n",
       "      <td>88</td>\n",
       "      <td>5.26</td>\n",
       "      <td>196.9</td>\n",
       "      <td>89</td>\n",
       "      <td>8.86</td>\n",
       "      <td>6.6</td>\n",
       "      <td>7</td>\n",
       "      <td>1.78</td>\n",
       "      <td>2</td>\n",
       "      <td>1</td>\n",
       "    </tr>\n",
       "    <tr>\n",
       "      <th>4</th>\n",
       "      <td>0</td>\n",
       "      <td>166.7</td>\n",
       "      <td>113</td>\n",
       "      <td>28.34</td>\n",
       "      <td>122</td>\n",
       "      <td>12.61</td>\n",
       "      <td>186.9</td>\n",
       "      <td>121</td>\n",
       "      <td>8.41</td>\n",
       "      <td>10.1</td>\n",
       "      <td>3</td>\n",
       "      <td>2.73</td>\n",
       "      <td>3</td>\n",
       "      <td>1</td>\n",
       "    </tr>\n",
       "  </tbody>\n",
       "</table>\n",
       "</div>"
      ],
      "text/plain": [
       "   number vmail messages  total day minutes  total day calls  \\\n",
       "0                     25              265.1              110   \n",
       "1                     26              161.6              123   \n",
       "2                      0              243.4              114   \n",
       "3                      0              299.4               71   \n",
       "4                      0              166.7              113   \n",
       "\n",
       "   total day charge  total eve calls  total eve charge  total night minutes  \\\n",
       "0             45.07               99             16.78                244.7   \n",
       "1             27.47              103             16.62                254.4   \n",
       "2             41.38              110             10.30                162.6   \n",
       "3             50.90               88              5.26                196.9   \n",
       "4             28.34              122             12.61                186.9   \n",
       "\n",
       "   total night calls  total night charge  total intl minutes  \\\n",
       "0                 91               11.01                10.0   \n",
       "1                103               11.45                13.7   \n",
       "2                104                7.32                12.2   \n",
       "3                 89                8.86                 6.6   \n",
       "4                121                8.41                10.1   \n",
       "\n",
       "   total intl calls  total intl charge  customer service calls  \\\n",
       "0                 3               2.70                       1   \n",
       "1                 3               3.70                       1   \n",
       "2                 5               3.29                       0   \n",
       "3                 7               1.78                       2   \n",
       "4                 3               2.73                       3   \n",
       "\n",
       "   international plan  \n",
       "0                   0  \n",
       "1                   0  \n",
       "2                   0  \n",
       "3                   1  \n",
       "4                   1  "
      ]
     },
     "execution_count": 6,
     "metadata": {},
     "output_type": "execute_result"
    }
   ],
   "source": [
    "#concatinating data with categorical feature converted to numeric\n",
    "df = pd.concat([df, df1], axis=1, sort=False)\n",
    "print(df.shape)\n",
    "df.head()"
   ]
  },
  {
   "cell_type": "markdown",
   "metadata": {},
   "source": [
    "#### Selecting 1000 random features based on the 1000 random indexs that we created"
   ]
  },
  {
   "cell_type": "code",
   "execution_count": 7,
   "metadata": {},
   "outputs": [
    {
     "name": "stdout",
     "output_type": "stream",
     "text": [
      "(1000, 14)\n"
     ]
    },
    {
     "data": {
      "text/html": [
       "<div>\n",
       "<style scoped>\n",
       "    .dataframe tbody tr th:only-of-type {\n",
       "        vertical-align: middle;\n",
       "    }\n",
       "\n",
       "    .dataframe tbody tr th {\n",
       "        vertical-align: top;\n",
       "    }\n",
       "\n",
       "    .dataframe thead th {\n",
       "        text-align: right;\n",
       "    }\n",
       "</style>\n",
       "<table border=\"1\" class=\"dataframe\">\n",
       "  <thead>\n",
       "    <tr style=\"text-align: right;\">\n",
       "      <th></th>\n",
       "      <th>number vmail messages</th>\n",
       "      <th>total day minutes</th>\n",
       "      <th>total day calls</th>\n",
       "      <th>total day charge</th>\n",
       "      <th>total eve calls</th>\n",
       "      <th>total eve charge</th>\n",
       "      <th>total night minutes</th>\n",
       "      <th>total night calls</th>\n",
       "      <th>total night charge</th>\n",
       "      <th>total intl minutes</th>\n",
       "      <th>total intl calls</th>\n",
       "      <th>total intl charge</th>\n",
       "      <th>customer service calls</th>\n",
       "      <th>international plan</th>\n",
       "    </tr>\n",
       "  </thead>\n",
       "  <tbody>\n",
       "    <tr>\n",
       "      <th>1673</th>\n",
       "      <td>0</td>\n",
       "      <td>174.7</td>\n",
       "      <td>83</td>\n",
       "      <td>29.70</td>\n",
       "      <td>122</td>\n",
       "      <td>23.87</td>\n",
       "      <td>171.7</td>\n",
       "      <td>80</td>\n",
       "      <td>7.73</td>\n",
       "      <td>10.5</td>\n",
       "      <td>8</td>\n",
       "      <td>2.84</td>\n",
       "      <td>5</td>\n",
       "      <td>0</td>\n",
       "    </tr>\n",
       "    <tr>\n",
       "      <th>2504</th>\n",
       "      <td>0</td>\n",
       "      <td>167.5</td>\n",
       "      <td>96</td>\n",
       "      <td>28.48</td>\n",
       "      <td>104</td>\n",
       "      <td>11.82</td>\n",
       "      <td>138.4</td>\n",
       "      <td>87</td>\n",
       "      <td>6.23</td>\n",
       "      <td>13.0</td>\n",
       "      <td>1</td>\n",
       "      <td>3.51</td>\n",
       "      <td>1</td>\n",
       "      <td>0</td>\n",
       "    </tr>\n",
       "    <tr>\n",
       "      <th>1505</th>\n",
       "      <td>0</td>\n",
       "      <td>223.0</td>\n",
       "      <td>120</td>\n",
       "      <td>37.91</td>\n",
       "      <td>98</td>\n",
       "      <td>19.30</td>\n",
       "      <td>188.3</td>\n",
       "      <td>125</td>\n",
       "      <td>8.47</td>\n",
       "      <td>8.8</td>\n",
       "      <td>5</td>\n",
       "      <td>2.38</td>\n",
       "      <td>1</td>\n",
       "      <td>0</td>\n",
       "    </tr>\n",
       "    <tr>\n",
       "      <th>3081</th>\n",
       "      <td>0</td>\n",
       "      <td>174.3</td>\n",
       "      <td>85</td>\n",
       "      <td>29.63</td>\n",
       "      <td>95</td>\n",
       "      <td>21.60</td>\n",
       "      <td>176.4</td>\n",
       "      <td>96</td>\n",
       "      <td>7.94</td>\n",
       "      <td>5.9</td>\n",
       "      <td>3</td>\n",
       "      <td>1.59</td>\n",
       "      <td>6</td>\n",
       "      <td>0</td>\n",
       "    </tr>\n",
       "    <tr>\n",
       "      <th>3244</th>\n",
       "      <td>0</td>\n",
       "      <td>231.3</td>\n",
       "      <td>87</td>\n",
       "      <td>39.32</td>\n",
       "      <td>88</td>\n",
       "      <td>19.10</td>\n",
       "      <td>214.6</td>\n",
       "      <td>69</td>\n",
       "      <td>9.66</td>\n",
       "      <td>7.2</td>\n",
       "      <td>7</td>\n",
       "      <td>1.94</td>\n",
       "      <td>1</td>\n",
       "      <td>0</td>\n",
       "    </tr>\n",
       "    <tr>\n",
       "      <th>...</th>\n",
       "      <td>...</td>\n",
       "      <td>...</td>\n",
       "      <td>...</td>\n",
       "      <td>...</td>\n",
       "      <td>...</td>\n",
       "      <td>...</td>\n",
       "      <td>...</td>\n",
       "      <td>...</td>\n",
       "      <td>...</td>\n",
       "      <td>...</td>\n",
       "      <td>...</td>\n",
       "      <td>...</td>\n",
       "      <td>...</td>\n",
       "      <td>...</td>\n",
       "    </tr>\n",
       "    <tr>\n",
       "      <th>1543</th>\n",
       "      <td>0</td>\n",
       "      <td>192.8</td>\n",
       "      <td>68</td>\n",
       "      <td>32.78</td>\n",
       "      <td>86</td>\n",
       "      <td>13.43</td>\n",
       "      <td>235.5</td>\n",
       "      <td>105</td>\n",
       "      <td>10.60</td>\n",
       "      <td>12.7</td>\n",
       "      <td>6</td>\n",
       "      <td>3.43</td>\n",
       "      <td>1</td>\n",
       "      <td>0</td>\n",
       "    </tr>\n",
       "    <tr>\n",
       "      <th>2206</th>\n",
       "      <td>0</td>\n",
       "      <td>176.2</td>\n",
       "      <td>120</td>\n",
       "      <td>29.95</td>\n",
       "      <td>138</td>\n",
       "      <td>20.06</td>\n",
       "      <td>152.5</td>\n",
       "      <td>104</td>\n",
       "      <td>6.86</td>\n",
       "      <td>10.6</td>\n",
       "      <td>4</td>\n",
       "      <td>2.86</td>\n",
       "      <td>1</td>\n",
       "      <td>0</td>\n",
       "    </tr>\n",
       "    <tr>\n",
       "      <th>3209</th>\n",
       "      <td>24</td>\n",
       "      <td>125.7</td>\n",
       "      <td>92</td>\n",
       "      <td>21.37</td>\n",
       "      <td>98</td>\n",
       "      <td>23.45</td>\n",
       "      <td>214.5</td>\n",
       "      <td>108</td>\n",
       "      <td>9.65</td>\n",
       "      <td>14.2</td>\n",
       "      <td>6</td>\n",
       "      <td>3.83</td>\n",
       "      <td>3</td>\n",
       "      <td>1</td>\n",
       "    </tr>\n",
       "    <tr>\n",
       "      <th>1435</th>\n",
       "      <td>19</td>\n",
       "      <td>112.6</td>\n",
       "      <td>114</td>\n",
       "      <td>19.14</td>\n",
       "      <td>132</td>\n",
       "      <td>22.24</td>\n",
       "      <td>123.5</td>\n",
       "      <td>116</td>\n",
       "      <td>5.56</td>\n",
       "      <td>11.1</td>\n",
       "      <td>2</td>\n",
       "      <td>3.00</td>\n",
       "      <td>0</td>\n",
       "      <td>1</td>\n",
       "    </tr>\n",
       "    <tr>\n",
       "      <th>3291</th>\n",
       "      <td>22</td>\n",
       "      <td>172.1</td>\n",
       "      <td>119</td>\n",
       "      <td>29.26</td>\n",
       "      <td>133</td>\n",
       "      <td>19.01</td>\n",
       "      <td>150.0</td>\n",
       "      <td>94</td>\n",
       "      <td>6.75</td>\n",
       "      <td>13.9</td>\n",
       "      <td>20</td>\n",
       "      <td>3.75</td>\n",
       "      <td>1</td>\n",
       "      <td>1</td>\n",
       "    </tr>\n",
       "  </tbody>\n",
       "</table>\n",
       "<p>1000 rows × 14 columns</p>\n",
       "</div>"
      ],
      "text/plain": [
       "      number vmail messages  total day minutes  total day calls  \\\n",
       "1673                      0              174.7               83   \n",
       "2504                      0              167.5               96   \n",
       "1505                      0              223.0              120   \n",
       "3081                      0              174.3               85   \n",
       "3244                      0              231.3               87   \n",
       "...                     ...                ...              ...   \n",
       "1543                      0              192.8               68   \n",
       "2206                      0              176.2              120   \n",
       "3209                     24              125.7               92   \n",
       "1435                     19              112.6              114   \n",
       "3291                     22              172.1              119   \n",
       "\n",
       "      total day charge  total eve calls  total eve charge  \\\n",
       "1673             29.70              122             23.87   \n",
       "2504             28.48              104             11.82   \n",
       "1505             37.91               98             19.30   \n",
       "3081             29.63               95             21.60   \n",
       "3244             39.32               88             19.10   \n",
       "...                ...              ...               ...   \n",
       "1543             32.78               86             13.43   \n",
       "2206             29.95              138             20.06   \n",
       "3209             21.37               98             23.45   \n",
       "1435             19.14              132             22.24   \n",
       "3291             29.26              133             19.01   \n",
       "\n",
       "      total night minutes  total night calls  total night charge  \\\n",
       "1673                171.7                 80                7.73   \n",
       "2504                138.4                 87                6.23   \n",
       "1505                188.3                125                8.47   \n",
       "3081                176.4                 96                7.94   \n",
       "3244                214.6                 69                9.66   \n",
       "...                   ...                ...                 ...   \n",
       "1543                235.5                105               10.60   \n",
       "2206                152.5                104                6.86   \n",
       "3209                214.5                108                9.65   \n",
       "1435                123.5                116                5.56   \n",
       "3291                150.0                 94                6.75   \n",
       "\n",
       "      total intl minutes  total intl calls  total intl charge  \\\n",
       "1673                10.5                 8               2.84   \n",
       "2504                13.0                 1               3.51   \n",
       "1505                 8.8                 5               2.38   \n",
       "3081                 5.9                 3               1.59   \n",
       "3244                 7.2                 7               1.94   \n",
       "...                  ...               ...                ...   \n",
       "1543                12.7                 6               3.43   \n",
       "2206                10.6                 4               2.86   \n",
       "3209                14.2                 6               3.83   \n",
       "1435                11.1                 2               3.00   \n",
       "3291                13.9                20               3.75   \n",
       "\n",
       "      customer service calls  international plan  \n",
       "1673                       5                   0  \n",
       "2504                       1                   0  \n",
       "1505                       1                   0  \n",
       "3081                       6                   0  \n",
       "3244                       1                   0  \n",
       "...                      ...                 ...  \n",
       "1543                       1                   0  \n",
       "2206                       1                   0  \n",
       "3209                       3                   1  \n",
       "1435                       0                   1  \n",
       "3291                       1                   1  \n",
       "\n",
       "[1000 rows x 14 columns]"
      ]
     },
     "execution_count": 7,
     "metadata": {},
     "output_type": "execute_result"
    }
   ],
   "source": [
    "#creating feature data frame\n",
    "X_df = df.loc[idx,['number vmail messages','total day minutes','total day calls','total day charge','total eve calls','total eve charge','total night minutes','total night calls','total night charge','total intl minutes','total intl calls','total intl charge','customer service calls','international plan']]\n",
    "print(X_df.shape)\n",
    "X_df"
   ]
  },
  {
   "cell_type": "markdown",
   "metadata": {},
   "source": [
    "#### D) Creating the target dataframe, by converting it into numeric binary class"
   ]
  },
  {
   "cell_type": "code",
   "execution_count": 8,
   "metadata": {},
   "outputs": [
    {
     "data": {
      "text/html": [
       "<div>\n",
       "<style scoped>\n",
       "    .dataframe tbody tr th:only-of-type {\n",
       "        vertical-align: middle;\n",
       "    }\n",
       "\n",
       "    .dataframe tbody tr th {\n",
       "        vertical-align: top;\n",
       "    }\n",
       "\n",
       "    .dataframe thead th {\n",
       "        text-align: right;\n",
       "    }\n",
       "</style>\n",
       "<table border=\"1\" class=\"dataframe\">\n",
       "  <thead>\n",
       "    <tr style=\"text-align: right;\">\n",
       "      <th></th>\n",
       "      <th>churn</th>\n",
       "    </tr>\n",
       "  </thead>\n",
       "  <tbody>\n",
       "    <tr>\n",
       "      <th>1673</th>\n",
       "      <td>0</td>\n",
       "    </tr>\n",
       "    <tr>\n",
       "      <th>2504</th>\n",
       "      <td>0</td>\n",
       "    </tr>\n",
       "    <tr>\n",
       "      <th>1505</th>\n",
       "      <td>0</td>\n",
       "    </tr>\n",
       "    <tr>\n",
       "      <th>3081</th>\n",
       "      <td>0</td>\n",
       "    </tr>\n",
       "    <tr>\n",
       "      <th>3244</th>\n",
       "      <td>0</td>\n",
       "    </tr>\n",
       "    <tr>\n",
       "      <th>...</th>\n",
       "      <td>...</td>\n",
       "    </tr>\n",
       "    <tr>\n",
       "      <th>1543</th>\n",
       "      <td>0</td>\n",
       "    </tr>\n",
       "    <tr>\n",
       "      <th>2206</th>\n",
       "      <td>0</td>\n",
       "    </tr>\n",
       "    <tr>\n",
       "      <th>3209</th>\n",
       "      <td>1</td>\n",
       "    </tr>\n",
       "    <tr>\n",
       "      <th>1435</th>\n",
       "      <td>1</td>\n",
       "    </tr>\n",
       "    <tr>\n",
       "      <th>3291</th>\n",
       "      <td>1</td>\n",
       "    </tr>\n",
       "  </tbody>\n",
       "</table>\n",
       "<p>1000 rows × 1 columns</p>\n",
       "</div>"
      ],
      "text/plain": [
       "      churn\n",
       "1673      0\n",
       "2504      0\n",
       "1505      0\n",
       "3081      0\n",
       "3244      0\n",
       "...     ...\n",
       "1543      0\n",
       "2206      0\n",
       "3209      1\n",
       "1435      1\n",
       "3291      1\n",
       "\n",
       "[1000 rows x 1 columns]"
      ]
     },
     "execution_count": 8,
     "metadata": {},
     "output_type": "execute_result"
    }
   ],
   "source": [
    "#creating target dataframe\n",
    "#selecting the target for same index that we used to select feature\n",
    "y = churn_data.loc[idx,['churn']].astype(int)\n",
    "y"
   ]
  },
  {
   "cell_type": "markdown",
   "metadata": {},
   "source": [
    "##### Here we used `np.random.randint` function on our dataframe. \n",
    "##### This function is used to select the random integers, which we used as our indexes to get the randomm records from our data. The purpose of doing that was, we don't want our model to fit and work on biased data. Hence, we provided random values.\n",
    "\n",
    "<br><br>"
   ]
  },
  {
   "cell_type": "markdown",
   "metadata": {},
   "source": [
    "## Step 4\n",
    "### Split the data into 20% testing and 80% training data."
   ]
  },
  {
   "cell_type": "markdown",
   "metadata": {},
   "source": [
    "#### Splitting the data\n",
    "##### train_test_split() method is used from sklearn package, model selection module which splits the features and target data into training and testing dataset. here, we are using the test_size as 0.20 which well set the test data percentage as 20%"
   ]
  },
  {
   "cell_type": "code",
   "execution_count": 9,
   "metadata": {},
   "outputs": [],
   "source": [
    "#importing train_test_split from sklearn.model_selection\n",
    "from sklearn.model_selection import train_test_split\n",
    "\n",
    "#creating train and test dataset with train percentage as 0.05\n",
    "X_train, X_test, y_train, y_test = train_test_split(X_df,y,random_state = 654,test_size=0.20,train_size=0.80)"
   ]
  },
  {
   "cell_type": "markdown",
   "metadata": {},
   "source": [
    "#### Calculating train and test percentages and shape"
   ]
  },
  {
   "cell_type": "code",
   "execution_count": 10,
   "metadata": {},
   "outputs": [
    {
     "name": "stdout",
     "output_type": "stream",
     "text": [
      "Training data percentage is 80.00 %\n",
      "Test data percentage is 20.00 %\n",
      "\n",
      "\n",
      "Features train shape(800, 14)\n",
      "Features test shape(200, 14)\n",
      "\n",
      "\n",
      "Target train shape(800, 1)\n",
      "Target test shape(200, 1)\n"
     ]
    }
   ],
   "source": [
    "#Train accuracy percentage\n",
    "print(\"Training data percentage is {:.2f}\".format(len(X_train)/len(X_df)*100)+\" %\")\n",
    "#Test accuracy percentage\n",
    "print(\"Test data percentage is {:.2f}\".format((len(X_test)/len(X_df))*100)+\" %\")\n",
    "\n",
    "print(\"\\n\")\n",
    "\n",
    "#Tain and test feature dataset shapes\n",
    "print(\"Features train shape\"+str(X_train.shape))\n",
    "print(\"Features test shape\"+str(X_test.shape))\n",
    "\n",
    "print(\"\\n\")\n",
    "\n",
    "#Tain and test target dataset shapes\n",
    "print(\"Target train shape\"+str(y_train.shape))\n",
    "print(\"Target test shape\"+str(y_test.shape))"
   ]
  },
  {
   "cell_type": "markdown",
   "metadata": {},
   "source": [
    "## Step 5 \n",
    "### Decision Tree classifier \n",
    "-  `DecisionTreeClassifier` from sklearn.tree will be used to as a classifier to predict the class based on the input feature data.\n",
    "-  The DecisionTreeClassifier take the feature data and calculate the gini index/entropy for each feature and the feature with the highest value is chosen as the root node and the tree keeps classifying the data until it reaches a leaf node with no impurity.\n",
    "-  We can also prun the tree using various parameters such as `max_depth` which specify the maximum depth the tree should traverse or `max_leaf_nodes` which specify the maximum number of leaf nodes the tree can have. As soon as one those conditions are met the tree stop classifying further.\n",
    "\n",
    "<br>\n",
    "\n",
    "#### Building the model for the classifier parameters"
   ]
  },
  {
   "cell_type": "code",
   "execution_count": 11,
   "metadata": {},
   "outputs": [
    {
     "name": "stdout",
     "output_type": "stream",
     "text": [
      "Train accuracy of Decision Tree for Max_Depth = 3, Max_Leaf_Node = 10, Min_Samples_Leaf = 10 is  91.25%\n",
      "Test accuracy of Decision Tree for Max_Depth  = 3, Max_Leaf_Node = 10, Min_Samples_Leaf = 10 is  89.00% \n",
      "\n",
      "\n",
      "Train accuracy of Decision Tree for Max_Depth = 3, Max_Leaf_Node = 10, Min_Samples_Leaf = 15 is  91.50%\n",
      "Test accuracy of Decision Tree for Max_Depth  = 3, Max_Leaf_Node = 10, Min_Samples_Leaf = 15 is  88.50% \n",
      "\n",
      "\n",
      "Train accuracy of Decision Tree for Max_Depth = 3, Max_Leaf_Node = 10, Min_Samples_Leaf = 20 is  91.50%\n",
      "Test accuracy of Decision Tree for Max_Depth  = 3, Max_Leaf_Node = 10, Min_Samples_Leaf = 20 is  88.50% \n",
      "\n",
      "\n",
      "Train accuracy of Decision Tree for Max_Depth = 3, Max_Leaf_Node = 10, Min_Samples_Leaf = 25 is  91.50%\n",
      "Test accuracy of Decision Tree for Max_Depth  = 3, Max_Leaf_Node = 10, Min_Samples_Leaf = 25 is  88.50% \n",
      "\n",
      "\n",
      "Train accuracy of Decision Tree for Max_Depth = 3, Max_Leaf_Node = 15, Min_Samples_Leaf = 10 is  91.25%\n",
      "Test accuracy of Decision Tree for Max_Depth  = 3, Max_Leaf_Node = 15, Min_Samples_Leaf = 10 is  89.00% \n",
      "\n",
      "\n",
      "Train accuracy of Decision Tree for Max_Depth = 3, Max_Leaf_Node = 15, Min_Samples_Leaf = 15 is  91.50%\n",
      "Test accuracy of Decision Tree for Max_Depth  = 3, Max_Leaf_Node = 15, Min_Samples_Leaf = 15 is  88.50% \n",
      "\n",
      "\n",
      "Train accuracy of Decision Tree for Max_Depth = 3, Max_Leaf_Node = 15, Min_Samples_Leaf = 20 is  91.50%\n",
      "Test accuracy of Decision Tree for Max_Depth  = 3, Max_Leaf_Node = 15, Min_Samples_Leaf = 20 is  88.50% \n",
      "\n",
      "\n",
      "Train accuracy of Decision Tree for Max_Depth = 3, Max_Leaf_Node = 15, Min_Samples_Leaf = 25 is  91.50%\n",
      "Test accuracy of Decision Tree for Max_Depth  = 3, Max_Leaf_Node = 15, Min_Samples_Leaf = 25 is  88.50% \n",
      "\n",
      "\n",
      "Train accuracy of Decision Tree for Max_Depth = 3, Max_Leaf_Node = 20, Min_Samples_Leaf = 10 is  91.25%\n",
      "Test accuracy of Decision Tree for Max_Depth  = 3, Max_Leaf_Node = 20, Min_Samples_Leaf = 10 is  89.00% \n",
      "\n",
      "\n",
      "Train accuracy of Decision Tree for Max_Depth = 3, Max_Leaf_Node = 20, Min_Samples_Leaf = 15 is  91.50%\n",
      "Test accuracy of Decision Tree for Max_Depth  = 3, Max_Leaf_Node = 20, Min_Samples_Leaf = 15 is  88.50% \n",
      "\n",
      "\n",
      "Train accuracy of Decision Tree for Max_Depth = 3, Max_Leaf_Node = 20, Min_Samples_Leaf = 20 is  91.50%\n",
      "Test accuracy of Decision Tree for Max_Depth  = 3, Max_Leaf_Node = 20, Min_Samples_Leaf = 20 is  88.50% \n",
      "\n",
      "\n",
      "Train accuracy of Decision Tree for Max_Depth = 3, Max_Leaf_Node = 20, Min_Samples_Leaf = 25 is  91.50%\n",
      "Test accuracy of Decision Tree for Max_Depth  = 3, Max_Leaf_Node = 20, Min_Samples_Leaf = 25 is  88.50% \n",
      "\n",
      "\n",
      "Train accuracy of Decision Tree for Max_Depth = 4, Max_Leaf_Node = 10, Min_Samples_Leaf = 10 is  93.62%\n",
      "Test accuracy of Decision Tree for Max_Depth  = 4, Max_Leaf_Node = 10, Min_Samples_Leaf = 10 is  91.50% \n",
      "\n",
      "\n",
      "Train accuracy of Decision Tree for Max_Depth = 4, Max_Leaf_Node = 10, Min_Samples_Leaf = 15 is  92.62%\n",
      "Test accuracy of Decision Tree for Max_Depth  = 4, Max_Leaf_Node = 10, Min_Samples_Leaf = 15 is  88.00% \n",
      "\n",
      "\n",
      "Train accuracy of Decision Tree for Max_Depth = 4, Max_Leaf_Node = 10, Min_Samples_Leaf = 20 is  91.75%\n",
      "Test accuracy of Decision Tree for Max_Depth  = 4, Max_Leaf_Node = 10, Min_Samples_Leaf = 20 is  89.50% \n",
      "\n",
      "\n",
      "Train accuracy of Decision Tree for Max_Depth = 4, Max_Leaf_Node = 10, Min_Samples_Leaf = 25 is  91.75%\n",
      "Test accuracy of Decision Tree for Max_Depth  = 4, Max_Leaf_Node = 10, Min_Samples_Leaf = 25 is  89.50% \n",
      "\n",
      "\n",
      "Train accuracy of Decision Tree for Max_Depth = 4, Max_Leaf_Node = 15, Min_Samples_Leaf = 10 is  93.62%\n",
      "Test accuracy of Decision Tree for Max_Depth  = 4, Max_Leaf_Node = 15, Min_Samples_Leaf = 10 is  91.50% \n",
      "\n",
      "\n",
      "Train accuracy of Decision Tree for Max_Depth = 4, Max_Leaf_Node = 15, Min_Samples_Leaf = 15 is  92.62%\n",
      "Test accuracy of Decision Tree for Max_Depth  = 4, Max_Leaf_Node = 15, Min_Samples_Leaf = 15 is  88.00% \n",
      "\n",
      "\n",
      "Train accuracy of Decision Tree for Max_Depth = 4, Max_Leaf_Node = 15, Min_Samples_Leaf = 20 is  91.75%\n",
      "Test accuracy of Decision Tree for Max_Depth  = 4, Max_Leaf_Node = 15, Min_Samples_Leaf = 20 is  89.50% \n",
      "\n",
      "\n",
      "Train accuracy of Decision Tree for Max_Depth = 4, Max_Leaf_Node = 15, Min_Samples_Leaf = 25 is  91.75%\n",
      "Test accuracy of Decision Tree for Max_Depth  = 4, Max_Leaf_Node = 15, Min_Samples_Leaf = 25 is  89.50% \n",
      "\n",
      "\n",
      "Train accuracy of Decision Tree for Max_Depth = 4, Max_Leaf_Node = 20, Min_Samples_Leaf = 10 is  93.62%\n",
      "Test accuracy of Decision Tree for Max_Depth  = 4, Max_Leaf_Node = 20, Min_Samples_Leaf = 10 is  91.50% \n",
      "\n",
      "\n",
      "Train accuracy of Decision Tree for Max_Depth = 4, Max_Leaf_Node = 20, Min_Samples_Leaf = 15 is  92.62%\n",
      "Test accuracy of Decision Tree for Max_Depth  = 4, Max_Leaf_Node = 20, Min_Samples_Leaf = 15 is  88.00% \n",
      "\n",
      "\n",
      "Train accuracy of Decision Tree for Max_Depth = 4, Max_Leaf_Node = 20, Min_Samples_Leaf = 20 is  91.75%\n",
      "Test accuracy of Decision Tree for Max_Depth  = 4, Max_Leaf_Node = 20, Min_Samples_Leaf = 20 is  89.50% \n",
      "\n",
      "\n",
      "Train accuracy of Decision Tree for Max_Depth = 4, Max_Leaf_Node = 20, Min_Samples_Leaf = 25 is  91.75%\n",
      "Test accuracy of Decision Tree for Max_Depth  = 4, Max_Leaf_Node = 20, Min_Samples_Leaf = 25 is  89.50% \n",
      "\n",
      "\n",
      "Train accuracy of Decision Tree for Max_Depth = 5, Max_Leaf_Node = 10, Min_Samples_Leaf = 10 is  95.88%\n",
      "Test accuracy of Decision Tree for Max_Depth  = 5, Max_Leaf_Node = 10, Min_Samples_Leaf = 10 is  90.00% \n",
      "\n",
      "\n",
      "Train accuracy of Decision Tree for Max_Depth = 5, Max_Leaf_Node = 10, Min_Samples_Leaf = 15 is  93.25%\n",
      "Test accuracy of Decision Tree for Max_Depth  = 5, Max_Leaf_Node = 10, Min_Samples_Leaf = 15 is  88.00% \n",
      "\n",
      "\n",
      "Train accuracy of Decision Tree for Max_Depth = 5, Max_Leaf_Node = 10, Min_Samples_Leaf = 20 is  91.75%\n",
      "Test accuracy of Decision Tree for Max_Depth  = 5, Max_Leaf_Node = 10, Min_Samples_Leaf = 20 is  89.50% \n",
      "\n",
      "\n",
      "Train accuracy of Decision Tree for Max_Depth = 5, Max_Leaf_Node = 10, Min_Samples_Leaf = 25 is  91.75%\n",
      "Test accuracy of Decision Tree for Max_Depth  = 5, Max_Leaf_Node = 10, Min_Samples_Leaf = 25 is  89.50% \n",
      "\n",
      "\n",
      "Train accuracy of Decision Tree for Max_Depth = 5, Max_Leaf_Node = 15, Min_Samples_Leaf = 10 is  96.00%\n",
      "Test accuracy of Decision Tree for Max_Depth  = 5, Max_Leaf_Node = 15, Min_Samples_Leaf = 10 is  93.00% \n",
      "\n",
      "\n",
      "Train accuracy of Decision Tree for Max_Depth = 5, Max_Leaf_Node = 15, Min_Samples_Leaf = 15 is  93.25%\n",
      "Test accuracy of Decision Tree for Max_Depth  = 5, Max_Leaf_Node = 15, Min_Samples_Leaf = 15 is  88.00% \n",
      "\n",
      "\n",
      "Train accuracy of Decision Tree for Max_Depth = 5, Max_Leaf_Node = 15, Min_Samples_Leaf = 20 is  91.75%\n",
      "Test accuracy of Decision Tree for Max_Depth  = 5, Max_Leaf_Node = 15, Min_Samples_Leaf = 20 is  89.50% \n",
      "\n",
      "\n",
      "Train accuracy of Decision Tree for Max_Depth = 5, Max_Leaf_Node = 15, Min_Samples_Leaf = 25 is  91.75%\n",
      "Test accuracy of Decision Tree for Max_Depth  = 5, Max_Leaf_Node = 15, Min_Samples_Leaf = 25 is  89.50% \n",
      "\n",
      "\n",
      "Train accuracy of Decision Tree for Max_Depth = 5, Max_Leaf_Node = 20, Min_Samples_Leaf = 10 is  96.00%\n",
      "Test accuracy of Decision Tree for Max_Depth  = 5, Max_Leaf_Node = 20, Min_Samples_Leaf = 10 is  93.00% \n",
      "\n",
      "\n",
      "Train accuracy of Decision Tree for Max_Depth = 5, Max_Leaf_Node = 20, Min_Samples_Leaf = 15 is  93.25%\n",
      "Test accuracy of Decision Tree for Max_Depth  = 5, Max_Leaf_Node = 20, Min_Samples_Leaf = 15 is  88.00% \n",
      "\n",
      "\n",
      "Train accuracy of Decision Tree for Max_Depth = 5, Max_Leaf_Node = 20, Min_Samples_Leaf = 20 is  91.75%\n",
      "Test accuracy of Decision Tree for Max_Depth  = 5, Max_Leaf_Node = 20, Min_Samples_Leaf = 20 is  89.50% \n",
      "\n",
      "\n",
      "Train accuracy of Decision Tree for Max_Depth = 5, Max_Leaf_Node = 20, Min_Samples_Leaf = 25 is  91.75%\n",
      "Test accuracy of Decision Tree for Max_Depth  = 5, Max_Leaf_Node = 20, Min_Samples_Leaf = 25 is  89.50% \n",
      "\n",
      "\n"
     ]
    }
   ],
   "source": [
    "#Creating parameters list\n",
    "#max_depth list\n",
    "max_depth = [3,4,5]\n",
    "#Max_leaf list\n",
    "max_leaf_nodes = [10,15,20]\n",
    "#min_sample_leaf parameter list\n",
    "min_samples_leaf = [10,15,20,25]\n",
    "\n",
    "#creating train and test accuracy list\n",
    "train_accuracies = []\n",
    "test_accuracies = []\n",
    "\n",
    "#looping the classifier for all the parameter values\n",
    "for i in max_depth:\n",
    "    for j in max_leaf_nodes:\n",
    "        for k in min_samples_leaf:\n",
    "\n",
    "            \n",
    "            #Building the model \n",
    "\n",
    "            # 1 importing the DecisionTreeClasssifier\n",
    "            from sklearn.tree import DecisionTreeClassifier\n",
    "\n",
    "            # 2 creating an object of DecisionTreeClasifier\n",
    "            tree = DecisionTreeClassifier(random_state=99,max_depth=i,max_leaf_nodes=j,min_samples_leaf=k)\n",
    "\n",
    "            # 3 fitting the training into model\n",
    "            tree.fit(X_train,y_train)\n",
    "            \n",
    "            # 4 predicting target for DecisionTreeClassifier\n",
    "            y_pred = tree.predict(X_test)\n",
    "            #print(y_pred[0:5])\n",
    "            \n",
    "            # 5 importing accuracy_score from sklearn.metrics\n",
    "            #The accuracy score which helps in calculating the train and test accuracy based on the number of correctly classified data\n",
    "            from sklearn.metrics import accuracy_score\n",
    "\n",
    "            # 6 calculating train accuracy for without scaled data for logistic regression\n",
    "            train_accuracy = tree.score(X_train,y_train)\n",
    "            print(\"Train accuracy of Decision Tree for Max_Depth = {:d}, Max_Leaf_Node = {:d}, Min_Samples_Leaf = {:d} is  {:.2f}\".format(i,j,k,train_accuracy*100)+\"%\")\n",
    "            train_accuracies.append(train_accuracy)\n",
    "\n",
    "            # 7 calculating test accuracy for without scaled data for logistic regression\n",
    "            test_accuracy = accuracy_score(y_test,y_pred)\n",
    "            print(\"Test accuracy of Decision Tree for Max_Depth  = {:d}, Max_Leaf_Node = {:d}, Min_Samples_Leaf = {:d} is  {:.2f}\".format(i,j,k,test_accuracy*100)+\"% \\n\\n\")\n",
    "            test_accuracies.append(test_accuracy)\n"
   ]
  },
  {
   "cell_type": "code",
   "execution_count": 12,
   "metadata": {},
   "outputs": [
    {
     "name": "stdout",
     "output_type": "stream",
     "text": [
      "Train Accuracies [91.25, 91.5, 91.5, 91.5, 91.25, 91.5, 91.5, 91.5, 91.25, 91.5, 91.5, 91.5, 93.62, 92.62, 91.75, 91.75, 93.62, 92.62, 91.75, 91.75, 93.62, 92.62, 91.75, 91.75, 95.88, 93.25, 91.75, 91.75, 96.0, 93.25, 91.75, 91.75, 96.0, 93.25, 91.75, 91.75]\n",
      "\n",
      "Test Accuracies [89.0, 88.5, 88.5, 88.5, 89.0, 88.5, 88.5, 88.5, 89.0, 88.5, 88.5, 88.5, 91.5, 88.0, 89.5, 89.5, 91.5, 88.0, 89.5, 89.5, 91.5, 88.0, 89.5, 89.5, 90.0, 88.0, 89.5, 89.5, 93.0, 88.0, 89.5, 89.5, 93.0, 88.0, 89.5, 89.5]\n"
     ]
    }
   ],
   "source": [
    "#checking the train and test accuracies for all the parameter values\n",
    "train_accurac = [round(num*100, 2) for num in train_accuracies]\n",
    "print(\"Train Accuracies \"+str(train_accurac))\n",
    "\n",
    "test_accurac = [round(num*100, 2) for num in test_accuracies]\n",
    "print(\"\\nTest Accuracies \"+str(test_accurac))"
   ]
  },
  {
   "cell_type": "markdown",
   "metadata": {},
   "source": [
    "##### Creating parameter labels"
   ]
  },
  {
   "cell_type": "code",
   "execution_count": 13,
   "metadata": {},
   "outputs": [
    {
     "name": "stdout",
     "output_type": "stream",
     "text": [
      "['3 10 10', '3 10 15', '3 10 20', '3 10 25', '3 15 10', '3 15 15', '3 15 20', '3 15 25', '3 20 10', '3 20 15', '3 20 20', '3 20 25', '4 10 10', '4 10 15', '4 10 20', '4 10 25', '4 15 10', '4 15 15', '4 15 20', '4 15 25', '4 20 10', '4 20 15', '4 20 20', '4 20 25', '5 10 10', '5 10 15', '5 10 20', '5 10 25', '5 15 10', '5 15 15', '5 15 20', '5 15 25', '5 20 10', '5 20 15', '5 20 20', '5 20 25']\n"
     ]
    }
   ],
   "source": [
    "#Creating parameter labels\n",
    "xlabel = []\n",
    "for i in max_depth:\n",
    "    for j in max_leaf_nodes:\n",
    "        for k in min_samples_leaf:\n",
    "            #print(i,j,k)\n",
    "            xlabel.append(str(i)+\" \"+str(j)+\" \"+str(k))\n",
    "print(xlabel)"
   ]
  },
  {
   "cell_type": "markdown",
   "metadata": {},
   "source": [
    "##### Creating Accuracy dataframe"
   ]
  },
  {
   "cell_type": "code",
   "execution_count": 14,
   "metadata": {},
   "outputs": [
    {
     "data": {
      "text/html": [
       "<style  type=\"text/css\" >\n",
       "    #T_ef151264_c460_11ea_82b9_e65fad062f64row0_col1 {\n",
       "            background-color:  #f7fbff;\n",
       "            color:  #000000;\n",
       "        }    #T_ef151264_c460_11ea_82b9_e65fad062f64row0_col2 {\n",
       "            background-color:  #d0e1f2;\n",
       "            color:  #000000;\n",
       "        }    #T_ef151264_c460_11ea_82b9_e65fad062f64row1_col1 {\n",
       "            background-color:  #edf4fc;\n",
       "            color:  #000000;\n",
       "        }    #T_ef151264_c460_11ea_82b9_e65fad062f64row1_col2 {\n",
       "            background-color:  #e3eef9;\n",
       "            color:  #000000;\n",
       "        }    #T_ef151264_c460_11ea_82b9_e65fad062f64row2_col1 {\n",
       "            background-color:  #edf4fc;\n",
       "            color:  #000000;\n",
       "        }    #T_ef151264_c460_11ea_82b9_e65fad062f64row2_col2 {\n",
       "            background-color:  #e3eef9;\n",
       "            color:  #000000;\n",
       "        }    #T_ef151264_c460_11ea_82b9_e65fad062f64row3_col1 {\n",
       "            background-color:  #edf4fc;\n",
       "            color:  #000000;\n",
       "        }    #T_ef151264_c460_11ea_82b9_e65fad062f64row3_col2 {\n",
       "            background-color:  #e3eef9;\n",
       "            color:  #000000;\n",
       "        }    #T_ef151264_c460_11ea_82b9_e65fad062f64row4_col1 {\n",
       "            background-color:  #f7fbff;\n",
       "            color:  #000000;\n",
       "        }    #T_ef151264_c460_11ea_82b9_e65fad062f64row4_col2 {\n",
       "            background-color:  #d0e1f2;\n",
       "            color:  #000000;\n",
       "        }    #T_ef151264_c460_11ea_82b9_e65fad062f64row5_col1 {\n",
       "            background-color:  #edf4fc;\n",
       "            color:  #000000;\n",
       "        }    #T_ef151264_c460_11ea_82b9_e65fad062f64row5_col2 {\n",
       "            background-color:  #e3eef9;\n",
       "            color:  #000000;\n",
       "        }    #T_ef151264_c460_11ea_82b9_e65fad062f64row6_col1 {\n",
       "            background-color:  #edf4fc;\n",
       "            color:  #000000;\n",
       "        }    #T_ef151264_c460_11ea_82b9_e65fad062f64row6_col2 {\n",
       "            background-color:  #e3eef9;\n",
       "            color:  #000000;\n",
       "        }    #T_ef151264_c460_11ea_82b9_e65fad062f64row7_col1 {\n",
       "            background-color:  #edf4fc;\n",
       "            color:  #000000;\n",
       "        }    #T_ef151264_c460_11ea_82b9_e65fad062f64row7_col2 {\n",
       "            background-color:  #e3eef9;\n",
       "            color:  #000000;\n",
       "        }    #T_ef151264_c460_11ea_82b9_e65fad062f64row8_col1 {\n",
       "            background-color:  #f7fbff;\n",
       "            color:  #000000;\n",
       "        }    #T_ef151264_c460_11ea_82b9_e65fad062f64row8_col2 {\n",
       "            background-color:  #d0e1f2;\n",
       "            color:  #000000;\n",
       "        }    #T_ef151264_c460_11ea_82b9_e65fad062f64row9_col1 {\n",
       "            background-color:  #edf4fc;\n",
       "            color:  #000000;\n",
       "        }    #T_ef151264_c460_11ea_82b9_e65fad062f64row9_col2 {\n",
       "            background-color:  #e3eef9;\n",
       "            color:  #000000;\n",
       "        }    #T_ef151264_c460_11ea_82b9_e65fad062f64row10_col1 {\n",
       "            background-color:  #edf4fc;\n",
       "            color:  #000000;\n",
       "        }    #T_ef151264_c460_11ea_82b9_e65fad062f64row10_col2 {\n",
       "            background-color:  #e3eef9;\n",
       "            color:  #000000;\n",
       "        }    #T_ef151264_c460_11ea_82b9_e65fad062f64row11_col1 {\n",
       "            background-color:  #edf4fc;\n",
       "            color:  #000000;\n",
       "        }    #T_ef151264_c460_11ea_82b9_e65fad062f64row11_col2 {\n",
       "            background-color:  #e3eef9;\n",
       "            color:  #000000;\n",
       "        }    #T_ef151264_c460_11ea_82b9_e65fad062f64row12_col1 {\n",
       "            background-color:  #6caed6;\n",
       "            color:  #000000;\n",
       "        }    #T_ef151264_c460_11ea_82b9_e65fad062f64row12_col2 {\n",
       "            background-color:  #2e7ebc;\n",
       "            color:  #000000;\n",
       "        }    #T_ef151264_c460_11ea_82b9_e65fad062f64row13_col1 {\n",
       "            background-color:  #bad6eb;\n",
       "            color:  #000000;\n",
       "        }    #T_ef151264_c460_11ea_82b9_e65fad062f64row13_col2 {\n",
       "            background-color:  #f7fbff;\n",
       "            color:  #000000;\n",
       "        }    #T_ef151264_c460_11ea_82b9_e65fad062f64row14_col1 {\n",
       "            background-color:  #e3eef8;\n",
       "            color:  #000000;\n",
       "        }    #T_ef151264_c460_11ea_82b9_e65fad062f64row14_col2 {\n",
       "            background-color:  #b7d4ea;\n",
       "            color:  #000000;\n",
       "        }    #T_ef151264_c460_11ea_82b9_e65fad062f64row15_col1 {\n",
       "            background-color:  #e3eef8;\n",
       "            color:  #000000;\n",
       "        }    #T_ef151264_c460_11ea_82b9_e65fad062f64row15_col2 {\n",
       "            background-color:  #b7d4ea;\n",
       "            color:  #000000;\n",
       "        }    #T_ef151264_c460_11ea_82b9_e65fad062f64row16_col1 {\n",
       "            background-color:  #6caed6;\n",
       "            color:  #000000;\n",
       "        }    #T_ef151264_c460_11ea_82b9_e65fad062f64row16_col2 {\n",
       "            background-color:  #2e7ebc;\n",
       "            color:  #000000;\n",
       "        }    #T_ef151264_c460_11ea_82b9_e65fad062f64row17_col1 {\n",
       "            background-color:  #bad6eb;\n",
       "            color:  #000000;\n",
       "        }    #T_ef151264_c460_11ea_82b9_e65fad062f64row17_col2 {\n",
       "            background-color:  #f7fbff;\n",
       "            color:  #000000;\n",
       "        }    #T_ef151264_c460_11ea_82b9_e65fad062f64row18_col1 {\n",
       "            background-color:  #e3eef8;\n",
       "            color:  #000000;\n",
       "        }    #T_ef151264_c460_11ea_82b9_e65fad062f64row18_col2 {\n",
       "            background-color:  #b7d4ea;\n",
       "            color:  #000000;\n",
       "        }    #T_ef151264_c460_11ea_82b9_e65fad062f64row19_col1 {\n",
       "            background-color:  #e3eef8;\n",
       "            color:  #000000;\n",
       "        }    #T_ef151264_c460_11ea_82b9_e65fad062f64row19_col2 {\n",
       "            background-color:  #b7d4ea;\n",
       "            color:  #000000;\n",
       "        }    #T_ef151264_c460_11ea_82b9_e65fad062f64row20_col1 {\n",
       "            background-color:  #6caed6;\n",
       "            color:  #000000;\n",
       "        }    #T_ef151264_c460_11ea_82b9_e65fad062f64row20_col2 {\n",
       "            background-color:  #2e7ebc;\n",
       "            color:  #000000;\n",
       "        }    #T_ef151264_c460_11ea_82b9_e65fad062f64row21_col1 {\n",
       "            background-color:  #bad6eb;\n",
       "            color:  #000000;\n",
       "        }    #T_ef151264_c460_11ea_82b9_e65fad062f64row21_col2 {\n",
       "            background-color:  #f7fbff;\n",
       "            color:  #000000;\n",
       "        }    #T_ef151264_c460_11ea_82b9_e65fad062f64row22_col1 {\n",
       "            background-color:  #e3eef8;\n",
       "            color:  #000000;\n",
       "        }    #T_ef151264_c460_11ea_82b9_e65fad062f64row22_col2 {\n",
       "            background-color:  #b7d4ea;\n",
       "            color:  #000000;\n",
       "        }    #T_ef151264_c460_11ea_82b9_e65fad062f64row23_col1 {\n",
       "            background-color:  #e3eef8;\n",
       "            color:  #000000;\n",
       "        }    #T_ef151264_c460_11ea_82b9_e65fad062f64row23_col2 {\n",
       "            background-color:  #b7d4ea;\n",
       "            color:  #000000;\n",
       "        }    #T_ef151264_c460_11ea_82b9_e65fad062f64row24_col1 {\n",
       "            background-color:  #083674;\n",
       "            color:  #f1f1f1;\n",
       "        }    #T_ef151264_c460_11ea_82b9_e65fad062f64row24_col2 {\n",
       "            background-color:  #94c4df;\n",
       "            color:  #000000;\n",
       "        }    #T_ef151264_c460_11ea_82b9_e65fad062f64row25_col1 {\n",
       "            background-color:  #8cc0dd;\n",
       "            color:  #000000;\n",
       "        }    #T_ef151264_c460_11ea_82b9_e65fad062f64row25_col2 {\n",
       "            background-color:  #f7fbff;\n",
       "            color:  #000000;\n",
       "        }    #T_ef151264_c460_11ea_82b9_e65fad062f64row26_col1 {\n",
       "            background-color:  #e3eef8;\n",
       "            color:  #000000;\n",
       "        }    #T_ef151264_c460_11ea_82b9_e65fad062f64row26_col2 {\n",
       "            background-color:  #b7d4ea;\n",
       "            color:  #000000;\n",
       "        }    #T_ef151264_c460_11ea_82b9_e65fad062f64row27_col1 {\n",
       "            background-color:  #e3eef8;\n",
       "            color:  #000000;\n",
       "        }    #T_ef151264_c460_11ea_82b9_e65fad062f64row27_col2 {\n",
       "            background-color:  #b7d4ea;\n",
       "            color:  #000000;\n",
       "        }    #T_ef151264_c460_11ea_82b9_e65fad062f64row28_col1 {\n",
       "            background-color:  #08306b;\n",
       "            color:  #f1f1f1;\n",
       "        }    #T_ef151264_c460_11ea_82b9_e65fad062f64row28_col2 {\n",
       "            background-color:  #08306b;\n",
       "            color:  #f1f1f1;\n",
       "        }    #T_ef151264_c460_11ea_82b9_e65fad062f64row29_col1 {\n",
       "            background-color:  #8cc0dd;\n",
       "            color:  #000000;\n",
       "        }    #T_ef151264_c460_11ea_82b9_e65fad062f64row29_col2 {\n",
       "            background-color:  #f7fbff;\n",
       "            color:  #000000;\n",
       "        }    #T_ef151264_c460_11ea_82b9_e65fad062f64row30_col1 {\n",
       "            background-color:  #e3eef8;\n",
       "            color:  #000000;\n",
       "        }    #T_ef151264_c460_11ea_82b9_e65fad062f64row30_col2 {\n",
       "            background-color:  #b7d4ea;\n",
       "            color:  #000000;\n",
       "        }    #T_ef151264_c460_11ea_82b9_e65fad062f64row31_col1 {\n",
       "            background-color:  #e3eef8;\n",
       "            color:  #000000;\n",
       "        }    #T_ef151264_c460_11ea_82b9_e65fad062f64row31_col2 {\n",
       "            background-color:  #b7d4ea;\n",
       "            color:  #000000;\n",
       "        }    #T_ef151264_c460_11ea_82b9_e65fad062f64row32_col1 {\n",
       "            background-color:  #08306b;\n",
       "            color:  #f1f1f1;\n",
       "        }    #T_ef151264_c460_11ea_82b9_e65fad062f64row32_col2 {\n",
       "            background-color:  #08306b;\n",
       "            color:  #f1f1f1;\n",
       "        }    #T_ef151264_c460_11ea_82b9_e65fad062f64row33_col1 {\n",
       "            background-color:  #8cc0dd;\n",
       "            color:  #000000;\n",
       "        }    #T_ef151264_c460_11ea_82b9_e65fad062f64row33_col2 {\n",
       "            background-color:  #f7fbff;\n",
       "            color:  #000000;\n",
       "        }    #T_ef151264_c460_11ea_82b9_e65fad062f64row34_col1 {\n",
       "            background-color:  #e3eef8;\n",
       "            color:  #000000;\n",
       "        }    #T_ef151264_c460_11ea_82b9_e65fad062f64row34_col2 {\n",
       "            background-color:  #b7d4ea;\n",
       "            color:  #000000;\n",
       "        }    #T_ef151264_c460_11ea_82b9_e65fad062f64row35_col1 {\n",
       "            background-color:  #e3eef8;\n",
       "            color:  #000000;\n",
       "        }    #T_ef151264_c460_11ea_82b9_e65fad062f64row35_col2 {\n",
       "            background-color:  #b7d4ea;\n",
       "            color:  #000000;\n",
       "        }</style><table id=\"T_ef151264_c460_11ea_82b9_e65fad062f64\" ><thead>    <tr>        <th class=\"blank level0\" ></th>        <th class=\"col_heading level0 col0\" >Model Parameters</th>        <th class=\"col_heading level0 col1\" >Train Accuracy</th>        <th class=\"col_heading level0 col2\" >Test Accuracy</th>    </tr></thead><tbody>\n",
       "                <tr>\n",
       "                        <th id=\"T_ef151264_c460_11ea_82b9_e65fad062f64level0_row0\" class=\"row_heading level0 row0\" >0</th>\n",
       "                        <td id=\"T_ef151264_c460_11ea_82b9_e65fad062f64row0_col0\" class=\"data row0 col0\" >3 10 10</td>\n",
       "                        <td id=\"T_ef151264_c460_11ea_82b9_e65fad062f64row0_col1\" class=\"data row0 col1\" >91.250000</td>\n",
       "                        <td id=\"T_ef151264_c460_11ea_82b9_e65fad062f64row0_col2\" class=\"data row0 col2\" >89.000000</td>\n",
       "            </tr>\n",
       "            <tr>\n",
       "                        <th id=\"T_ef151264_c460_11ea_82b9_e65fad062f64level0_row1\" class=\"row_heading level0 row1\" >1</th>\n",
       "                        <td id=\"T_ef151264_c460_11ea_82b9_e65fad062f64row1_col0\" class=\"data row1 col0\" >3 10 15</td>\n",
       "                        <td id=\"T_ef151264_c460_11ea_82b9_e65fad062f64row1_col1\" class=\"data row1 col1\" >91.500000</td>\n",
       "                        <td id=\"T_ef151264_c460_11ea_82b9_e65fad062f64row1_col2\" class=\"data row1 col2\" >88.500000</td>\n",
       "            </tr>\n",
       "            <tr>\n",
       "                        <th id=\"T_ef151264_c460_11ea_82b9_e65fad062f64level0_row2\" class=\"row_heading level0 row2\" >2</th>\n",
       "                        <td id=\"T_ef151264_c460_11ea_82b9_e65fad062f64row2_col0\" class=\"data row2 col0\" >3 10 20</td>\n",
       "                        <td id=\"T_ef151264_c460_11ea_82b9_e65fad062f64row2_col1\" class=\"data row2 col1\" >91.500000</td>\n",
       "                        <td id=\"T_ef151264_c460_11ea_82b9_e65fad062f64row2_col2\" class=\"data row2 col2\" >88.500000</td>\n",
       "            </tr>\n",
       "            <tr>\n",
       "                        <th id=\"T_ef151264_c460_11ea_82b9_e65fad062f64level0_row3\" class=\"row_heading level0 row3\" >3</th>\n",
       "                        <td id=\"T_ef151264_c460_11ea_82b9_e65fad062f64row3_col0\" class=\"data row3 col0\" >3 10 25</td>\n",
       "                        <td id=\"T_ef151264_c460_11ea_82b9_e65fad062f64row3_col1\" class=\"data row3 col1\" >91.500000</td>\n",
       "                        <td id=\"T_ef151264_c460_11ea_82b9_e65fad062f64row3_col2\" class=\"data row3 col2\" >88.500000</td>\n",
       "            </tr>\n",
       "            <tr>\n",
       "                        <th id=\"T_ef151264_c460_11ea_82b9_e65fad062f64level0_row4\" class=\"row_heading level0 row4\" >4</th>\n",
       "                        <td id=\"T_ef151264_c460_11ea_82b9_e65fad062f64row4_col0\" class=\"data row4 col0\" >3 15 10</td>\n",
       "                        <td id=\"T_ef151264_c460_11ea_82b9_e65fad062f64row4_col1\" class=\"data row4 col1\" >91.250000</td>\n",
       "                        <td id=\"T_ef151264_c460_11ea_82b9_e65fad062f64row4_col2\" class=\"data row4 col2\" >89.000000</td>\n",
       "            </tr>\n",
       "            <tr>\n",
       "                        <th id=\"T_ef151264_c460_11ea_82b9_e65fad062f64level0_row5\" class=\"row_heading level0 row5\" >5</th>\n",
       "                        <td id=\"T_ef151264_c460_11ea_82b9_e65fad062f64row5_col0\" class=\"data row5 col0\" >3 15 15</td>\n",
       "                        <td id=\"T_ef151264_c460_11ea_82b9_e65fad062f64row5_col1\" class=\"data row5 col1\" >91.500000</td>\n",
       "                        <td id=\"T_ef151264_c460_11ea_82b9_e65fad062f64row5_col2\" class=\"data row5 col2\" >88.500000</td>\n",
       "            </tr>\n",
       "            <tr>\n",
       "                        <th id=\"T_ef151264_c460_11ea_82b9_e65fad062f64level0_row6\" class=\"row_heading level0 row6\" >6</th>\n",
       "                        <td id=\"T_ef151264_c460_11ea_82b9_e65fad062f64row6_col0\" class=\"data row6 col0\" >3 15 20</td>\n",
       "                        <td id=\"T_ef151264_c460_11ea_82b9_e65fad062f64row6_col1\" class=\"data row6 col1\" >91.500000</td>\n",
       "                        <td id=\"T_ef151264_c460_11ea_82b9_e65fad062f64row6_col2\" class=\"data row6 col2\" >88.500000</td>\n",
       "            </tr>\n",
       "            <tr>\n",
       "                        <th id=\"T_ef151264_c460_11ea_82b9_e65fad062f64level0_row7\" class=\"row_heading level0 row7\" >7</th>\n",
       "                        <td id=\"T_ef151264_c460_11ea_82b9_e65fad062f64row7_col0\" class=\"data row7 col0\" >3 15 25</td>\n",
       "                        <td id=\"T_ef151264_c460_11ea_82b9_e65fad062f64row7_col1\" class=\"data row7 col1\" >91.500000</td>\n",
       "                        <td id=\"T_ef151264_c460_11ea_82b9_e65fad062f64row7_col2\" class=\"data row7 col2\" >88.500000</td>\n",
       "            </tr>\n",
       "            <tr>\n",
       "                        <th id=\"T_ef151264_c460_11ea_82b9_e65fad062f64level0_row8\" class=\"row_heading level0 row8\" >8</th>\n",
       "                        <td id=\"T_ef151264_c460_11ea_82b9_e65fad062f64row8_col0\" class=\"data row8 col0\" >3 20 10</td>\n",
       "                        <td id=\"T_ef151264_c460_11ea_82b9_e65fad062f64row8_col1\" class=\"data row8 col1\" >91.250000</td>\n",
       "                        <td id=\"T_ef151264_c460_11ea_82b9_e65fad062f64row8_col2\" class=\"data row8 col2\" >89.000000</td>\n",
       "            </tr>\n",
       "            <tr>\n",
       "                        <th id=\"T_ef151264_c460_11ea_82b9_e65fad062f64level0_row9\" class=\"row_heading level0 row9\" >9</th>\n",
       "                        <td id=\"T_ef151264_c460_11ea_82b9_e65fad062f64row9_col0\" class=\"data row9 col0\" >3 20 15</td>\n",
       "                        <td id=\"T_ef151264_c460_11ea_82b9_e65fad062f64row9_col1\" class=\"data row9 col1\" >91.500000</td>\n",
       "                        <td id=\"T_ef151264_c460_11ea_82b9_e65fad062f64row9_col2\" class=\"data row9 col2\" >88.500000</td>\n",
       "            </tr>\n",
       "            <tr>\n",
       "                        <th id=\"T_ef151264_c460_11ea_82b9_e65fad062f64level0_row10\" class=\"row_heading level0 row10\" >10</th>\n",
       "                        <td id=\"T_ef151264_c460_11ea_82b9_e65fad062f64row10_col0\" class=\"data row10 col0\" >3 20 20</td>\n",
       "                        <td id=\"T_ef151264_c460_11ea_82b9_e65fad062f64row10_col1\" class=\"data row10 col1\" >91.500000</td>\n",
       "                        <td id=\"T_ef151264_c460_11ea_82b9_e65fad062f64row10_col2\" class=\"data row10 col2\" >88.500000</td>\n",
       "            </tr>\n",
       "            <tr>\n",
       "                        <th id=\"T_ef151264_c460_11ea_82b9_e65fad062f64level0_row11\" class=\"row_heading level0 row11\" >11</th>\n",
       "                        <td id=\"T_ef151264_c460_11ea_82b9_e65fad062f64row11_col0\" class=\"data row11 col0\" >3 20 25</td>\n",
       "                        <td id=\"T_ef151264_c460_11ea_82b9_e65fad062f64row11_col1\" class=\"data row11 col1\" >91.500000</td>\n",
       "                        <td id=\"T_ef151264_c460_11ea_82b9_e65fad062f64row11_col2\" class=\"data row11 col2\" >88.500000</td>\n",
       "            </tr>\n",
       "            <tr>\n",
       "                        <th id=\"T_ef151264_c460_11ea_82b9_e65fad062f64level0_row12\" class=\"row_heading level0 row12\" >12</th>\n",
       "                        <td id=\"T_ef151264_c460_11ea_82b9_e65fad062f64row12_col0\" class=\"data row12 col0\" >4 10 10</td>\n",
       "                        <td id=\"T_ef151264_c460_11ea_82b9_e65fad062f64row12_col1\" class=\"data row12 col1\" >93.620000</td>\n",
       "                        <td id=\"T_ef151264_c460_11ea_82b9_e65fad062f64row12_col2\" class=\"data row12 col2\" >91.500000</td>\n",
       "            </tr>\n",
       "            <tr>\n",
       "                        <th id=\"T_ef151264_c460_11ea_82b9_e65fad062f64level0_row13\" class=\"row_heading level0 row13\" >13</th>\n",
       "                        <td id=\"T_ef151264_c460_11ea_82b9_e65fad062f64row13_col0\" class=\"data row13 col0\" >4 10 15</td>\n",
       "                        <td id=\"T_ef151264_c460_11ea_82b9_e65fad062f64row13_col1\" class=\"data row13 col1\" >92.620000</td>\n",
       "                        <td id=\"T_ef151264_c460_11ea_82b9_e65fad062f64row13_col2\" class=\"data row13 col2\" >88.000000</td>\n",
       "            </tr>\n",
       "            <tr>\n",
       "                        <th id=\"T_ef151264_c460_11ea_82b9_e65fad062f64level0_row14\" class=\"row_heading level0 row14\" >14</th>\n",
       "                        <td id=\"T_ef151264_c460_11ea_82b9_e65fad062f64row14_col0\" class=\"data row14 col0\" >4 10 20</td>\n",
       "                        <td id=\"T_ef151264_c460_11ea_82b9_e65fad062f64row14_col1\" class=\"data row14 col1\" >91.750000</td>\n",
       "                        <td id=\"T_ef151264_c460_11ea_82b9_e65fad062f64row14_col2\" class=\"data row14 col2\" >89.500000</td>\n",
       "            </tr>\n",
       "            <tr>\n",
       "                        <th id=\"T_ef151264_c460_11ea_82b9_e65fad062f64level0_row15\" class=\"row_heading level0 row15\" >15</th>\n",
       "                        <td id=\"T_ef151264_c460_11ea_82b9_e65fad062f64row15_col0\" class=\"data row15 col0\" >4 10 25</td>\n",
       "                        <td id=\"T_ef151264_c460_11ea_82b9_e65fad062f64row15_col1\" class=\"data row15 col1\" >91.750000</td>\n",
       "                        <td id=\"T_ef151264_c460_11ea_82b9_e65fad062f64row15_col2\" class=\"data row15 col2\" >89.500000</td>\n",
       "            </tr>\n",
       "            <tr>\n",
       "                        <th id=\"T_ef151264_c460_11ea_82b9_e65fad062f64level0_row16\" class=\"row_heading level0 row16\" >16</th>\n",
       "                        <td id=\"T_ef151264_c460_11ea_82b9_e65fad062f64row16_col0\" class=\"data row16 col0\" >4 15 10</td>\n",
       "                        <td id=\"T_ef151264_c460_11ea_82b9_e65fad062f64row16_col1\" class=\"data row16 col1\" >93.620000</td>\n",
       "                        <td id=\"T_ef151264_c460_11ea_82b9_e65fad062f64row16_col2\" class=\"data row16 col2\" >91.500000</td>\n",
       "            </tr>\n",
       "            <tr>\n",
       "                        <th id=\"T_ef151264_c460_11ea_82b9_e65fad062f64level0_row17\" class=\"row_heading level0 row17\" >17</th>\n",
       "                        <td id=\"T_ef151264_c460_11ea_82b9_e65fad062f64row17_col0\" class=\"data row17 col0\" >4 15 15</td>\n",
       "                        <td id=\"T_ef151264_c460_11ea_82b9_e65fad062f64row17_col1\" class=\"data row17 col1\" >92.620000</td>\n",
       "                        <td id=\"T_ef151264_c460_11ea_82b9_e65fad062f64row17_col2\" class=\"data row17 col2\" >88.000000</td>\n",
       "            </tr>\n",
       "            <tr>\n",
       "                        <th id=\"T_ef151264_c460_11ea_82b9_e65fad062f64level0_row18\" class=\"row_heading level0 row18\" >18</th>\n",
       "                        <td id=\"T_ef151264_c460_11ea_82b9_e65fad062f64row18_col0\" class=\"data row18 col0\" >4 15 20</td>\n",
       "                        <td id=\"T_ef151264_c460_11ea_82b9_e65fad062f64row18_col1\" class=\"data row18 col1\" >91.750000</td>\n",
       "                        <td id=\"T_ef151264_c460_11ea_82b9_e65fad062f64row18_col2\" class=\"data row18 col2\" >89.500000</td>\n",
       "            </tr>\n",
       "            <tr>\n",
       "                        <th id=\"T_ef151264_c460_11ea_82b9_e65fad062f64level0_row19\" class=\"row_heading level0 row19\" >19</th>\n",
       "                        <td id=\"T_ef151264_c460_11ea_82b9_e65fad062f64row19_col0\" class=\"data row19 col0\" >4 15 25</td>\n",
       "                        <td id=\"T_ef151264_c460_11ea_82b9_e65fad062f64row19_col1\" class=\"data row19 col1\" >91.750000</td>\n",
       "                        <td id=\"T_ef151264_c460_11ea_82b9_e65fad062f64row19_col2\" class=\"data row19 col2\" >89.500000</td>\n",
       "            </tr>\n",
       "            <tr>\n",
       "                        <th id=\"T_ef151264_c460_11ea_82b9_e65fad062f64level0_row20\" class=\"row_heading level0 row20\" >20</th>\n",
       "                        <td id=\"T_ef151264_c460_11ea_82b9_e65fad062f64row20_col0\" class=\"data row20 col0\" >4 20 10</td>\n",
       "                        <td id=\"T_ef151264_c460_11ea_82b9_e65fad062f64row20_col1\" class=\"data row20 col1\" >93.620000</td>\n",
       "                        <td id=\"T_ef151264_c460_11ea_82b9_e65fad062f64row20_col2\" class=\"data row20 col2\" >91.500000</td>\n",
       "            </tr>\n",
       "            <tr>\n",
       "                        <th id=\"T_ef151264_c460_11ea_82b9_e65fad062f64level0_row21\" class=\"row_heading level0 row21\" >21</th>\n",
       "                        <td id=\"T_ef151264_c460_11ea_82b9_e65fad062f64row21_col0\" class=\"data row21 col0\" >4 20 15</td>\n",
       "                        <td id=\"T_ef151264_c460_11ea_82b9_e65fad062f64row21_col1\" class=\"data row21 col1\" >92.620000</td>\n",
       "                        <td id=\"T_ef151264_c460_11ea_82b9_e65fad062f64row21_col2\" class=\"data row21 col2\" >88.000000</td>\n",
       "            </tr>\n",
       "            <tr>\n",
       "                        <th id=\"T_ef151264_c460_11ea_82b9_e65fad062f64level0_row22\" class=\"row_heading level0 row22\" >22</th>\n",
       "                        <td id=\"T_ef151264_c460_11ea_82b9_e65fad062f64row22_col0\" class=\"data row22 col0\" >4 20 20</td>\n",
       "                        <td id=\"T_ef151264_c460_11ea_82b9_e65fad062f64row22_col1\" class=\"data row22 col1\" >91.750000</td>\n",
       "                        <td id=\"T_ef151264_c460_11ea_82b9_e65fad062f64row22_col2\" class=\"data row22 col2\" >89.500000</td>\n",
       "            </tr>\n",
       "            <tr>\n",
       "                        <th id=\"T_ef151264_c460_11ea_82b9_e65fad062f64level0_row23\" class=\"row_heading level0 row23\" >23</th>\n",
       "                        <td id=\"T_ef151264_c460_11ea_82b9_e65fad062f64row23_col0\" class=\"data row23 col0\" >4 20 25</td>\n",
       "                        <td id=\"T_ef151264_c460_11ea_82b9_e65fad062f64row23_col1\" class=\"data row23 col1\" >91.750000</td>\n",
       "                        <td id=\"T_ef151264_c460_11ea_82b9_e65fad062f64row23_col2\" class=\"data row23 col2\" >89.500000</td>\n",
       "            </tr>\n",
       "            <tr>\n",
       "                        <th id=\"T_ef151264_c460_11ea_82b9_e65fad062f64level0_row24\" class=\"row_heading level0 row24\" >24</th>\n",
       "                        <td id=\"T_ef151264_c460_11ea_82b9_e65fad062f64row24_col0\" class=\"data row24 col0\" >5 10 10</td>\n",
       "                        <td id=\"T_ef151264_c460_11ea_82b9_e65fad062f64row24_col1\" class=\"data row24 col1\" >95.880000</td>\n",
       "                        <td id=\"T_ef151264_c460_11ea_82b9_e65fad062f64row24_col2\" class=\"data row24 col2\" >90.000000</td>\n",
       "            </tr>\n",
       "            <tr>\n",
       "                        <th id=\"T_ef151264_c460_11ea_82b9_e65fad062f64level0_row25\" class=\"row_heading level0 row25\" >25</th>\n",
       "                        <td id=\"T_ef151264_c460_11ea_82b9_e65fad062f64row25_col0\" class=\"data row25 col0\" >5 10 15</td>\n",
       "                        <td id=\"T_ef151264_c460_11ea_82b9_e65fad062f64row25_col1\" class=\"data row25 col1\" >93.250000</td>\n",
       "                        <td id=\"T_ef151264_c460_11ea_82b9_e65fad062f64row25_col2\" class=\"data row25 col2\" >88.000000</td>\n",
       "            </tr>\n",
       "            <tr>\n",
       "                        <th id=\"T_ef151264_c460_11ea_82b9_e65fad062f64level0_row26\" class=\"row_heading level0 row26\" >26</th>\n",
       "                        <td id=\"T_ef151264_c460_11ea_82b9_e65fad062f64row26_col0\" class=\"data row26 col0\" >5 10 20</td>\n",
       "                        <td id=\"T_ef151264_c460_11ea_82b9_e65fad062f64row26_col1\" class=\"data row26 col1\" >91.750000</td>\n",
       "                        <td id=\"T_ef151264_c460_11ea_82b9_e65fad062f64row26_col2\" class=\"data row26 col2\" >89.500000</td>\n",
       "            </tr>\n",
       "            <tr>\n",
       "                        <th id=\"T_ef151264_c460_11ea_82b9_e65fad062f64level0_row27\" class=\"row_heading level0 row27\" >27</th>\n",
       "                        <td id=\"T_ef151264_c460_11ea_82b9_e65fad062f64row27_col0\" class=\"data row27 col0\" >5 10 25</td>\n",
       "                        <td id=\"T_ef151264_c460_11ea_82b9_e65fad062f64row27_col1\" class=\"data row27 col1\" >91.750000</td>\n",
       "                        <td id=\"T_ef151264_c460_11ea_82b9_e65fad062f64row27_col2\" class=\"data row27 col2\" >89.500000</td>\n",
       "            </tr>\n",
       "            <tr>\n",
       "                        <th id=\"T_ef151264_c460_11ea_82b9_e65fad062f64level0_row28\" class=\"row_heading level0 row28\" >28</th>\n",
       "                        <td id=\"T_ef151264_c460_11ea_82b9_e65fad062f64row28_col0\" class=\"data row28 col0\" >5 15 10</td>\n",
       "                        <td id=\"T_ef151264_c460_11ea_82b9_e65fad062f64row28_col1\" class=\"data row28 col1\" >96.000000</td>\n",
       "                        <td id=\"T_ef151264_c460_11ea_82b9_e65fad062f64row28_col2\" class=\"data row28 col2\" >93.000000</td>\n",
       "            </tr>\n",
       "            <tr>\n",
       "                        <th id=\"T_ef151264_c460_11ea_82b9_e65fad062f64level0_row29\" class=\"row_heading level0 row29\" >29</th>\n",
       "                        <td id=\"T_ef151264_c460_11ea_82b9_e65fad062f64row29_col0\" class=\"data row29 col0\" >5 15 15</td>\n",
       "                        <td id=\"T_ef151264_c460_11ea_82b9_e65fad062f64row29_col1\" class=\"data row29 col1\" >93.250000</td>\n",
       "                        <td id=\"T_ef151264_c460_11ea_82b9_e65fad062f64row29_col2\" class=\"data row29 col2\" >88.000000</td>\n",
       "            </tr>\n",
       "            <tr>\n",
       "                        <th id=\"T_ef151264_c460_11ea_82b9_e65fad062f64level0_row30\" class=\"row_heading level0 row30\" >30</th>\n",
       "                        <td id=\"T_ef151264_c460_11ea_82b9_e65fad062f64row30_col0\" class=\"data row30 col0\" >5 15 20</td>\n",
       "                        <td id=\"T_ef151264_c460_11ea_82b9_e65fad062f64row30_col1\" class=\"data row30 col1\" >91.750000</td>\n",
       "                        <td id=\"T_ef151264_c460_11ea_82b9_e65fad062f64row30_col2\" class=\"data row30 col2\" >89.500000</td>\n",
       "            </tr>\n",
       "            <tr>\n",
       "                        <th id=\"T_ef151264_c460_11ea_82b9_e65fad062f64level0_row31\" class=\"row_heading level0 row31\" >31</th>\n",
       "                        <td id=\"T_ef151264_c460_11ea_82b9_e65fad062f64row31_col0\" class=\"data row31 col0\" >5 15 25</td>\n",
       "                        <td id=\"T_ef151264_c460_11ea_82b9_e65fad062f64row31_col1\" class=\"data row31 col1\" >91.750000</td>\n",
       "                        <td id=\"T_ef151264_c460_11ea_82b9_e65fad062f64row31_col2\" class=\"data row31 col2\" >89.500000</td>\n",
       "            </tr>\n",
       "            <tr>\n",
       "                        <th id=\"T_ef151264_c460_11ea_82b9_e65fad062f64level0_row32\" class=\"row_heading level0 row32\" >32</th>\n",
       "                        <td id=\"T_ef151264_c460_11ea_82b9_e65fad062f64row32_col0\" class=\"data row32 col0\" >5 20 10</td>\n",
       "                        <td id=\"T_ef151264_c460_11ea_82b9_e65fad062f64row32_col1\" class=\"data row32 col1\" >96.000000</td>\n",
       "                        <td id=\"T_ef151264_c460_11ea_82b9_e65fad062f64row32_col2\" class=\"data row32 col2\" >93.000000</td>\n",
       "            </tr>\n",
       "            <tr>\n",
       "                        <th id=\"T_ef151264_c460_11ea_82b9_e65fad062f64level0_row33\" class=\"row_heading level0 row33\" >33</th>\n",
       "                        <td id=\"T_ef151264_c460_11ea_82b9_e65fad062f64row33_col0\" class=\"data row33 col0\" >5 20 15</td>\n",
       "                        <td id=\"T_ef151264_c460_11ea_82b9_e65fad062f64row33_col1\" class=\"data row33 col1\" >93.250000</td>\n",
       "                        <td id=\"T_ef151264_c460_11ea_82b9_e65fad062f64row33_col2\" class=\"data row33 col2\" >88.000000</td>\n",
       "            </tr>\n",
       "            <tr>\n",
       "                        <th id=\"T_ef151264_c460_11ea_82b9_e65fad062f64level0_row34\" class=\"row_heading level0 row34\" >34</th>\n",
       "                        <td id=\"T_ef151264_c460_11ea_82b9_e65fad062f64row34_col0\" class=\"data row34 col0\" >5 20 20</td>\n",
       "                        <td id=\"T_ef151264_c460_11ea_82b9_e65fad062f64row34_col1\" class=\"data row34 col1\" >91.750000</td>\n",
       "                        <td id=\"T_ef151264_c460_11ea_82b9_e65fad062f64row34_col2\" class=\"data row34 col2\" >89.500000</td>\n",
       "            </tr>\n",
       "            <tr>\n",
       "                        <th id=\"T_ef151264_c460_11ea_82b9_e65fad062f64level0_row35\" class=\"row_heading level0 row35\" >35</th>\n",
       "                        <td id=\"T_ef151264_c460_11ea_82b9_e65fad062f64row35_col0\" class=\"data row35 col0\" >5 20 25</td>\n",
       "                        <td id=\"T_ef151264_c460_11ea_82b9_e65fad062f64row35_col1\" class=\"data row35 col1\" >91.750000</td>\n",
       "                        <td id=\"T_ef151264_c460_11ea_82b9_e65fad062f64row35_col2\" class=\"data row35 col2\" >89.500000</td>\n",
       "            </tr>\n",
       "    </tbody></table>"
      ],
      "text/plain": [
       "<pandas.io.formats.style.Styler at 0x1810b5779c8>"
      ]
     },
     "execution_count": 14,
     "metadata": {},
     "output_type": "execute_result"
    }
   ],
   "source": [
    "#Accuracy dataframe\n",
    "Acc_df = pd.DataFrame({'Model Parameters':xlabel,'Train Accuracy': train_accurac,'Test Accuracy': test_accurac})\n",
    "#Model parameters(Max_depth,Max_leaf_nodes,min_sample_leaf) with train and test accuracies\n",
    "Acc_df.style.background_gradient(cmap='Blues')\n",
    "#style.highlight_max(color='yellow').highlight_min(color='lightblue')"
   ]
  },
  {
   "cell_type": "markdown",
   "metadata": {},
   "source": [
    "## Step 6\n",
    "### Plotting the train and test accuracies for the DecisionTreeClassifier for each parameter values"
   ]
  },
  {
   "cell_type": "code",
   "execution_count": 15,
   "metadata": {},
   "outputs": [
    {
     "name": "stdout",
     "output_type": "stream",
     "text": [
      "0\n"
     ]
    },
    {
     "data": {
      "image/png": "[encoded data removed]",
      "text/plain": [
       "<Figure size 432x288 with 1 Axes>"
      ]
     },
     "metadata": {
      "needs_background": "light"
     },
     "output_type": "display_data"
    },
    {
     "name": "stdout",
     "output_type": "stream",
     "text": [
      "1\n"
     ]
    },
    {
     "data": {
      "image/png": "[encoded data removed]",
      "text/plain": [
       "<Figure size 432x288 with 1 Axes>"
      ]
     },
     "metadata": {
      "needs_background": "light"
     },
     "output_type": "display_data"
    },
    {
     "name": "stdout",
     "output_type": "stream",
     "text": [
      "2\n"
     ]
    },
    {
     "data": {
      "image/png": "[encoded data removed]",
      "text/plain": [
       "<Figure size 432x288 with 1 Axes>"
      ]
     },
     "metadata": {
      "needs_background": "light"
     },
     "output_type": "display_data"
    },
    {
     "name": "stdout",
     "output_type": "stream",
     "text": [
      "3\n"
     ]
    },
    {
     "data": {
      "image/png": "[encoded data removed]",
      "text/plain": [
       "<Figure size 432x288 with 1 Axes>"
      ]
     },
     "metadata": {
      "needs_background": "light"
     },
     "output_type": "display_data"
    },
    {
     "name": "stdout",
     "output_type": "stream",
     "text": [
      "4\n"
     ]
    },
    {
     "data": {
      "image/png": "[encoded data removed]",
      "text/plain": [
       "<Figure size 432x288 with 1 Axes>"
      ]
     },
     "metadata": {
      "needs_background": "light"
     },
     "output_type": "display_data"
    },
    {
     "name": "stdout",
     "output_type": "stream",
     "text": [
      "5\n"
     ]
    },
    {
     "data": {
      "image/png": "[encoded data removed]",
      "text/plain": [
       "<Figure size 432x288 with 1 Axes>"
      ]
     },
     "metadata": {
      "needs_background": "light"
     },
     "output_type": "display_data"
    },
    {
     "name": "stdout",
     "output_type": "stream",
     "text": [
      "6\n"
     ]
    },
    {
     "data": {
      "image/png": "[encoded data removed]",
      "text/plain": [
       "<Figure size 432x288 with 1 Axes>"
      ]
     },
     "metadata": {
      "needs_background": "light"
     },
     "output_type": "display_data"
    },
    {
     "name": "stdout",
     "output_type": "stream",
     "text": [
      "7\n"
     ]
    },
    {
     "data": {
      "image/png": "[encoded data removed]",
      "text/plain": [
       "<Figure size 432x288 with 1 Axes>"
      ]
     },
     "metadata": {
      "needs_background": "light"
     },
     "output_type": "display_data"
    },
    {
     "name": "stdout",
     "output_type": "stream",
     "text": [
      "8\n"
     ]
    },
    {
     "data": {
      "image/png": "[encoded data removed]",
      "text/plain": [
       "<Figure size 432x288 with 1 Axes>"
      ]
     },
     "metadata": {
      "needs_background": "light"
     },
     "output_type": "display_data"
    },
    {
     "name": "stdout",
     "output_type": "stream",
     "text": [
      "9\n"
     ]
    },
    {
     "data": {
      "image/png": "[encoded data removed]",
      "text/plain": [
       "<Figure size 432x288 with 1 Axes>"
      ]
     },
     "metadata": {
      "needs_background": "light"
     },
     "output_type": "display_data"
    },
    {
     "name": "stdout",
     "output_type": "stream",
     "text": [
      "10\n"
     ]
    },
    {
     "data": {
      "image/png": "[encoded data removed]",
      "text/plain": [
       "<Figure size 432x288 with 1 Axes>"
      ]
     },
     "metadata": {
      "needs_background": "light"
     },
     "output_type": "display_data"
    },
    {
     "name": "stdout",
     "output_type": "stream",
     "text": [
      "11\n"
     ]
    },
    {
     "data": {
      "image/png": "[encoded data removed]",
      "text/plain": [
       "<Figure size 432x288 with 1 Axes>"
      ]
     },
     "metadata": {
      "needs_background": "light"
     },
     "output_type": "display_data"
    },
    {
     "name": "stdout",
     "output_type": "stream",
     "text": [
      "12\n"
     ]
    },
    {
     "data": {
      "image/png": "[encoded data removed]",
      "text/plain": [
       "<Figure size 432x288 with 1 Axes>"
      ]
     },
     "metadata": {
      "needs_background": "light"
     },
     "output_type": "display_data"
    },
    {
     "name": "stdout",
     "output_type": "stream",
     "text": [
      "13\n"
     ]
    },
    {
     "data": {
      "image/png": "[encoded data removed]",
      "text/plain": [
       "<Figure size 432x288 with 1 Axes>"
      ]
     },
     "metadata": {
      "needs_background": "light"
     },
     "output_type": "display_data"
    },
    {
     "name": "stdout",
     "output_type": "stream",
     "text": [
      "14\n"
     ]
    },
    {
     "data": {
      "image/png": "[encoded data removed]",
      "text/plain": [
       "<Figure size 432x288 with 1 Axes>"
      ]
     },
     "metadata": {
      "needs_background": "light"
     },
     "output_type": "display_data"
    },
    {
     "name": "stdout",
     "output_type": "stream",
     "text": [
      "15\n"
     ]
    },
    {
     "data": {
      "image/png": "[encoded data removed]",
      "text/plain": [
       "<Figure size 432x288 with 1 Axes>"
      ]
     },
     "metadata": {
      "needs_background": "light"
     },
     "output_type": "display_data"
    },
    {
     "name": "stdout",
     "output_type": "stream",
     "text": [
      "16\n"
     ]
    },
    {
     "data": {
      "image/png": "[encoded data removed]",
      "text/plain": [
       "<Figure size 432x288 with 1 Axes>"
      ]
     },
     "metadata": {
      "needs_background": "light"
     },
     "output_type": "display_data"
    },
    {
     "name": "stdout",
     "output_type": "stream",
     "text": [
      "17\n"
     ]
    },
    {
     "data": {
      "image/png": "[encoded data removed]",
      "text/plain": [
       "<Figure size 432x288 with 1 Axes>"
      ]
     },
     "metadata": {
      "needs_background": "light"
     },
     "output_type": "display_data"
    },
    {
     "name": "stdout",
     "output_type": "stream",
     "text": [
      "18\n"
     ]
    },
    {
     "data": {
      "image/png": "[encoded data removed]",
      "text/plain": [
       "<Figure size 432x288 with 1 Axes>"
      ]
     },
     "metadata": {
      "needs_background": "light"
     },
     "output_type": "display_data"
    },
    {
     "name": "stdout",
     "output_type": "stream",
     "text": [
      "19\n"
     ]
    },
    {
     "data": {
      "image/png": "[encoded data removed]",
      "text/plain": [
       "<Figure size 432x288 with 1 Axes>"
      ]
     },
     "metadata": {
      "needs_background": "light"
     },
     "output_type": "display_data"
    },
    {
     "name": "stdout",
     "output_type": "stream",
     "text": [
      "20\n"
     ]
    },
    {
     "data": {
      "image/png": "[encoded data removed]",
      "text/plain": [
       "<Figure size 432x288 with 1 Axes>"
      ]
     },
     "metadata": {
      "needs_background": "light"
     },
     "output_type": "display_data"
    },
    {
     "name": "stdout",
     "output_type": "stream",
     "text": [
      "21\n"
     ]
    },
    {
     "data": {
      "image/png": "[encoded data removed]",
      "text/plain": [
       "<Figure size 432x288 with 1 Axes>"
      ]
     },
     "metadata": {
      "needs_background": "light"
     },
     "output_type": "display_data"
    },
    {
     "name": "stdout",
     "output_type": "stream",
     "text": [
      "22\n"
     ]
    },
    {
     "data": {
      "image/png": "[encoded data removed]",
      "text/plain": [
       "<Figure size 432x288 with 1 Axes>"
      ]
     },
     "metadata": {
      "needs_background": "light"
     },
     "output_type": "display_data"
    },
    {
     "name": "stdout",
     "output_type": "stream",
     "text": [
      "23\n"
     ]
    },
    {
     "data": {
      "image/png": "[encoded data removed]",
      "text/plain": [
       "<Figure size 432x288 with 1 Axes>"
      ]
     },
     "metadata": {
      "needs_background": "light"
     },
     "output_type": "display_data"
    },
    {
     "name": "stdout",
     "output_type": "stream",
     "text": [
      "24\n"
     ]
    },
    {
     "data": {
      "image/png": "[encoded data removed]",
      "text/plain": [
       "<Figure size 432x288 with 1 Axes>"
      ]
     },
     "metadata": {
      "needs_background": "light"
     },
     "output_type": "display_data"
    },
    {
     "name": "stdout",
     "output_type": "stream",
     "text": [
      "25\n"
     ]
    },
    {
     "data": {
      "image/png": "[encoded data removed]",
      "text/plain": [
       "<Figure size 432x288 with 1 Axes>"
      ]
     },
     "metadata": {
      "needs_background": "light"
     },
     "output_type": "display_data"
    },
    {
     "name": "stdout",
     "output_type": "stream",
     "text": [
      "26\n"
     ]
    },
    {
     "data": {
      "image/png": "[encoded data removed]",
      "text/plain": [
       "<Figure size 432x288 with 1 Axes>"
      ]
     },
     "metadata": {
      "needs_background": "light"
     },
     "output_type": "display_data"
    },
    {
     "name": "stdout",
     "output_type": "stream",
     "text": [
      "27\n"
     ]
    },
    {
     "data": {
      "image/png": "[encoded data removed]",
      "text/plain": [
       "<Figure size 432x288 with 1 Axes>"
      ]
     },
     "metadata": {
      "needs_background": "light"
     },
     "output_type": "display_data"
    },
    {
     "name": "stdout",
     "output_type": "stream",
     "text": [
      "28\n"
     ]
    },
    {
     "data": {
      "image/png": "[encoded data removed]",
      "text/plain": [
       "<Figure size 432x288 with 1 Axes>"
      ]
     },
     "metadata": {
      "needs_background": "light"
     },
     "output_type": "display_data"
    },
    {
     "name": "stdout",
     "output_type": "stream",
     "text": [
      "29\n"
     ]
    },
    {
     "data": {
      "image/png": "[encoded data removed]",
      "text/plain": [
       "<Figure size 432x288 with 1 Axes>"
      ]
     },
     "metadata": {
      "needs_background": "light"
     },
     "output_type": "display_data"
    },
    {
     "name": "stdout",
     "output_type": "stream",
     "text": [
      "30\n"
     ]
    },
    {
     "data": {
      "image/png": "[encoded data removed]",
      "text/plain": [
       "<Figure size 432x288 with 1 Axes>"
      ]
     },
     "metadata": {
      "needs_background": "light"
     },
     "output_type": "display_data"
    },
    {
     "name": "stdout",
     "output_type": "stream",
     "text": [
      "31\n"
     ]
    },
    {
     "data": {
      "image/png": "[encoded data removed]",
      "text/plain": [
       "<Figure size 432x288 with 1 Axes>"
      ]
     },
     "metadata": {
      "needs_background": "light"
     },
     "output_type": "display_data"
    },
    {
     "name": "stdout",
     "output_type": "stream",
     "text": [
      "32\n"
     ]
    },
    {
     "data": {
      "image/png": "[encoded data removed]",
      "text/plain": [
       "<Figure size 432x288 with 1 Axes>"
      ]
     },
     "metadata": {
      "needs_background": "light"
     },
     "output_type": "display_data"
    },
    {
     "name": "stdout",
     "output_type": "stream",
     "text": [
      "33\n"
     ]
    },
    {
     "data": {
      "image/png": "[encoded data removed]",
      "text/plain": [
       "<Figure size 432x288 with 1 Axes>"
      ]
     },
     "metadata": {
      "needs_background": "light"
     },
     "output_type": "display_data"
    },
    {
     "name": "stdout",
     "output_type": "stream",
     "text": [
      "34\n"
     ]
    },
    {
     "data": {
      "image/png": "[encoded data removed]",
      "text/plain": [
       "<Figure size 432x288 with 1 Axes>"
      ]
     },
     "metadata": {
      "needs_background": "light"
     },
     "output_type": "display_data"
    },
    {
     "name": "stdout",
     "output_type": "stream",
     "text": [
      "35\n"
     ]
    },
    {
     "data": {
      "image/png": "[encoded data removed]",
      "text/plain": [
       "<Figure size 432x288 with 1 Axes>"
      ]
     },
     "metadata": {
      "needs_background": "light"
     },
     "output_type": "display_data"
    }
   ],
   "source": [
    "label = ['3 10 10']\n",
    "for i in range(0,(len(max_depth)*len(max_leaf_nodes)*len(min_samples_leaf))):\n",
    "    x = np.arange(len(label))\n",
    "    print(i)\n",
    "    width = 0.5  \n",
    "\n",
    "    #fig= plt.figure(figsize=(5,4))\n",
    "    fig, ax = plt.subplots(figsize=(6, 4))\n",
    "    \n",
    "    #train accuracy bar\n",
    "    bar1 = ax.bar(x + width/2, train_accurac[i], width/2, label='Train')\n",
    "    \n",
    "    #test accuracy bar\n",
    "    bar2 = ax.bar(x + width, test_accurac[i], width/2, label='Test')\n",
    "\n",
    "    # Add some text for labels, title and custom x-axis tick labels, etc.\n",
    "    ax.set_ylabel('Accuracy')\n",
    "    ax.set_xlabel('Model ')\n",
    "    ax.set_title('Decision Tree Train test accuracies for '+xlabel[i])\n",
    "    ax.set_xticks(x)\n",
    "    #ax.set_xticklabels(label)\n",
    "    ax.set_xlim([0, 1])\n",
    "    ax.set_ylim([0, 100])\n",
    "    ax.legend(loc='center right', bbox_to_anchor=(1.25, 0.9))\n",
    "\n",
    "    \n",
    "    #assigning the data labels\n",
    "    def autolabel(rects):\n",
    "        for rect in rects:\n",
    "            height = rect.get_height()\n",
    "            #print(height)\n",
    "            ax.annotate('{}'.format(height),\n",
    "                    xy=(rect.get_x() + rect.get_width() / 2, height),\n",
    "                    xytext=(0, 3),\n",
    "                    textcoords=\"offset points\")\n",
    "\n",
    "\n",
    "    autolabel(bar1)\n",
    "    autolabel(bar2)\n",
    "\n",
    "    fig.tight_layout()\n",
    "\n",
    "    plt.show()"
   ]
  },
  {
   "cell_type": "markdown",
   "metadata": {},
   "source": [
    "### For 2 models we got high train and test accuracies as shown below:\n",
    "\n",
    "<table {margin-left: 0}>\n",
    "  <thead>\n",
    "    <tr>\n",
    "      <th>Model Parameters</th>  \n",
    "      <th>Train Accuracies</th>\n",
    "      <th>Test Accuracies</th>\n",
    "    </tr>\n",
    "  </thead>\n",
    "  <tbody>\n",
    "    <tr>\n",
    "      <td>5 15 10</td>\n",
    "      <td>96.00%</td>\n",
    "      <td>93.00%</td>\n",
    "    </tr>\n",
    "    <tr>\n",
    "      <td>5 20 10</td>\n",
    "      <td>96.00%</td>\n",
    "      <td>93.00%</td>\n",
    "    </tr>\n",
    "  </tbody>\n",
    "</table>\n",
    "\n",
    "\n"
   ]
  },
  {
   "cell_type": "markdown",
   "metadata": {},
   "source": [
    "# 2 Explain your plots and results."
   ]
  },
  {
   "cell_type": "markdown",
   "metadata": {},
   "source": [
    "- The above plots shows the plot for train vs test accuracy for the models with different DecisionTreeClassifier parameters.\n",
    "- Based on the results we have obtained above we have observed that overall the DecisionTreeClassifer performs well with high accuracy and quick respose time and for some parameter values of model such as `Max_depth = 5`, `Max_leaf_nodes = 15`, & `Min_sample_leaf = 10` and `Max_depth = 5`, `Max_leaf_nodes = 20`, & `Min_sample_leaf = 10` we have got the highest accuracy."
   ]
  },
  {
   "cell_type": "markdown",
   "metadata": {},
   "source": [
    "## 3- Create a for loop that splits the data into testing and training datasets starting from 5:95 ratio until you reach 20:80 ratio with a step of 5, on each step do the following:"
   ]
  },
  {
   "cell_type": "markdown",
   "metadata": {},
   "source": [
    "##### Function to calculate the performance measure"
   ]
  },
  {
   "cell_type": "code",
   "execution_count": 16,
   "metadata": {},
   "outputs": [],
   "source": [
    "#Function to calculate performance measures\n",
    "\n",
    "#function to create confusion matrix values\n",
    "\n",
    "def peformance_metrics(y_test,y_pred):\n",
    "    y_test = np.array(y_test)\n",
    "    true_positive = 0\n",
    "    false_positive = 0\n",
    "    true_negative = 0\n",
    "    false_negative = 0\n",
    "\n",
    "    for i in range(len(y_pred)): \n",
    "        \n",
    "        #if target test value is equal to the predicted value for class 1 \n",
    "        if y_test[i]==y_pred[i]==1:\n",
    "           true_negative += 1\n",
    "        \n",
    "        #if target test value is not equal to the predicted value for class 1\n",
    "        if y_pred[i]==1 and y_test[i]!=y_pred[i]:\n",
    "           false_positive += 1\n",
    "        \n",
    "        #if target test value is equal to the predicted value for class 0\n",
    "        if y_test[i]==y_pred[i]==0:\n",
    "           true_positive += 1\n",
    "        \n",
    "        #if target test value is not equal to the predicted value for class 0\n",
    "        if y_pred[i]==0 and y_test[i]!=y_pred[i]:\n",
    "           false_negative += 1\n",
    "    return(true_positive, false_positive, false_negative,true_negative)\n",
    "\n",
    "#print(peformance_metrics(y_test,y_pred))"
   ]
  },
  {
   "cell_type": "markdown",
   "metadata": {},
   "source": [
    "- Implement the Decision Trees classifier with the three parameters values found in step 1\n",
    "    - We have got higest accuracy for parameter `max_depth = 5`, `max_leaf_nodes = 15` and `min_samples_leaf = 10` so we will consider these prameter values below for different test and train size.\n",
    "- Calculate and display the Confusion Matrix."
   ]
  },
  {
   "cell_type": "code",
   "execution_count": 17,
   "metadata": {},
   "outputs": [
    {
     "name": "stdout",
     "output_type": "stream",
     "text": [
      "Training data percentage is 95.00 %\n",
      "Test data percentage is 5.00 %\n",
      "\n",
      "\n",
      "Features train shape(950, 14)\n",
      "Features test shape(50, 14)\n",
      "\n",
      "\n",
      "Target train shape(950, 1)\n",
      "Target test shape(50, 1)\n",
      "\n",
      "Train accuracy of Decision Tree for Max_Node = 5, Max_Leaf_Node = 15, Min_Samples_Leaf = 10 is  96.00%\n",
      "Test accuracy of Decision Tree for Max_Node  = 5, Max_Leaf_Node = 15, Min_Samples_Leaf = 10 is  100.00% \n",
      "\n",
      "\n",
      "Confusion Matrix for Max_Node  = 5, Max_Leaf_Node = 15, Min_Samples_Leaf = 10 is \n",
      "[[45  0]\n",
      " [ 0  5]]\n",
      " \n",
      "\n",
      "(45, 0, 0, 5)\n",
      "True Positives for model are  : 45\n",
      "False Positives for model are : 0\n",
      "False Negatives for model are : 0\n",
      "True Negatives for model are  : 5\n",
      "\n",
      "              precision    recall  f1-score   support\n",
      "\n",
      "           0       1.00      1.00      1.00        45\n",
      "           1       1.00      1.00      1.00         5\n",
      "\n",
      "    accuracy                           1.00        50\n",
      "   macro avg       1.00      1.00      1.00        50\n",
      "weighted avg       1.00      1.00      1.00        50\n",
      "\n"
     ]
    },
    {
     "data": {
      "image/png": "[encoded data removed]",
      "text/plain": [
       "<Figure size 432x288 with 2 Axes>"
      ]
     },
     "metadata": {
      "needs_background": "light"
     },
     "output_type": "display_data"
    },
    {
     "name": "stdout",
     "output_type": "stream",
     "text": [
      "----------------------------------------------------------------------------------------------------------\n",
      "Training data percentage is 90.00 %\n",
      "Test data percentage is 10.00 %\n",
      "\n",
      "\n",
      "Features train shape(900, 14)\n",
      "Features test shape(100, 14)\n",
      "\n",
      "\n",
      "Target train shape(900, 1)\n",
      "Target test shape(100, 1)\n",
      "\n",
      "Train accuracy of Decision Tree for Max_Node = 5, Max_Leaf_Node = 15, Min_Samples_Leaf = 10 is  96.22%\n",
      "Test accuracy of Decision Tree for Max_Node  = 5, Max_Leaf_Node = 15, Min_Samples_Leaf = 10 is  97.00% \n",
      "\n",
      "\n",
      "Confusion Matrix for Max_Node  = 5, Max_Leaf_Node = 15, Min_Samples_Leaf = 10 is \n",
      "[[85  1]\n",
      " [ 2 12]]\n",
      " \n",
      "\n",
      "(85, 1, 2, 12)\n",
      "True Positives for model are  : 85\n",
      "False Positives for model are : 2\n",
      "False Negatives for model are : 1\n",
      "True Negatives for model are  : 12\n",
      "\n",
      "              precision    recall  f1-score   support\n",
      "\n",
      "           0       0.98      0.99      0.98        86\n",
      "           1       0.92      0.86      0.89        14\n",
      "\n",
      "    accuracy                           0.97       100\n",
      "   macro avg       0.95      0.92      0.94       100\n",
      "weighted avg       0.97      0.97      0.97       100\n",
      "\n"
     ]
    },
    {
     "data": {
      "image/png": "[encoded data removed]",
      "text/plain": [
       "<Figure size 432x288 with 2 Axes>"
      ]
     },
     "metadata": {
      "needs_background": "light"
     },
     "output_type": "display_data"
    },
    {
     "name": "stdout",
     "output_type": "stream",
     "text": [
      "----------------------------------------------------------------------------------------------------------\n",
      "Training data percentage is 85.00 %\n",
      "Test data percentage is 15.00 %\n",
      "\n",
      "\n",
      "Features train shape(850, 14)\n",
      "Features test shape(150, 14)\n",
      "\n",
      "\n",
      "Target train shape(850, 1)\n",
      "Target test shape(150, 1)\n",
      "\n",
      "Train accuracy of Decision Tree for Max_Node = 5, Max_Leaf_Node = 15, Min_Samples_Leaf = 10 is  96.24%\n",
      "Test accuracy of Decision Tree for Max_Node  = 5, Max_Leaf_Node = 15, Min_Samples_Leaf = 10 is  96.00% \n",
      "\n",
      "\n",
      "Confusion Matrix for Max_Node  = 5, Max_Leaf_Node = 15, Min_Samples_Leaf = 10 is \n",
      "[[130   1]\n",
      " [  5  14]]\n",
      " \n",
      "\n",
      "(130, 1, 5, 14)\n",
      "True Positives for model are  : 130\n",
      "False Positives for model are : 5\n",
      "False Negatives for model are : 1\n",
      "True Negatives for model are  : 14\n",
      "\n",
      "              precision    recall  f1-score   support\n",
      "\n",
      "           0       0.96      0.99      0.98       131\n",
      "           1       0.93      0.74      0.82        19\n",
      "\n",
      "    accuracy                           0.96       150\n",
      "   macro avg       0.95      0.86      0.90       150\n",
      "weighted avg       0.96      0.96      0.96       150\n",
      "\n"
     ]
    },
    {
     "data": {
      "image/png": "[encoded data removed]",
      "text/plain": [
       "<Figure size 432x288 with 2 Axes>"
      ]
     },
     "metadata": {
      "needs_background": "light"
     },
     "output_type": "display_data"
    },
    {
     "name": "stdout",
     "output_type": "stream",
     "text": [
      "----------------------------------------------------------------------------------------------------------\n",
      "Training data percentage is 80.00 %\n",
      "Test data percentage is 20.00 %\n",
      "\n",
      "\n",
      "Features train shape(800, 14)\n",
      "Features test shape(200, 14)\n",
      "\n",
      "\n",
      "Target train shape(800, 1)\n",
      "Target test shape(200, 1)\n",
      "\n",
      "Train accuracy of Decision Tree for Max_Node = 5, Max_Leaf_Node = 15, Min_Samples_Leaf = 10 is  96.00%\n",
      "Test accuracy of Decision Tree for Max_Node  = 5, Max_Leaf_Node = 15, Min_Samples_Leaf = 10 is  93.00% \n",
      "\n",
      "\n",
      "Confusion Matrix for Max_Node  = 5, Max_Leaf_Node = 15, Min_Samples_Leaf = 10 is \n",
      "[[167   5]\n",
      " [  9  19]]\n",
      " \n",
      "\n",
      "(167, 5, 9, 19)\n",
      "True Positives for model are  : 167\n",
      "False Positives for model are : 9\n",
      "False Negatives for model are : 5\n",
      "True Negatives for model are  : 19\n",
      "\n",
      "              precision    recall  f1-score   support\n",
      "\n",
      "           0       0.95      0.97      0.96       172\n",
      "           1       0.79      0.68      0.73        28\n",
      "\n",
      "    accuracy                           0.93       200\n",
      "   macro avg       0.87      0.82      0.85       200\n",
      "weighted avg       0.93      0.93      0.93       200\n",
      "\n"
     ]
    },
    {
     "data": {
      "image/png": "[encoded data removed]",
      "text/plain": [
       "<Figure size 432x288 with 2 Axes>"
      ]
     },
     "metadata": {
      "needs_background": "light"
     },
     "output_type": "display_data"
    },
    {
     "name": "stdout",
     "output_type": "stream",
     "text": [
      "----------------------------------------------------------------------------------------------------------\n"
     ]
    }
   ],
   "source": [
    "#importing train_test_split from sklearn.model_selection\n",
    "from sklearn.model_selection import train_test_split\n",
    "\n",
    "test_size = [0.05,0.10,0.15,0.20]\n",
    "\n",
    "TP = []\n",
    "FP = []\n",
    "FN = []\n",
    "TN = []\n",
    "\n",
    "\n",
    "#selecting values from above model paramters having high train and test accuracy\n",
    "max_depth = 5\n",
    "max_leaf_nodes = 15\n",
    "min_samples_leaf = 10\n",
    "\n",
    "for i in test_size:\n",
    "    #creating train and test dataset with train percentage as 0.05\n",
    "    X_train, X_test, y_train, y_test = train_test_split(X_df,y,random_state = 654,test_size=i,train_size=1-i)\n",
    "    #print(i,1-i)\n",
    "    \n",
    "    #Train accuracy percentage\n",
    "    print(\"Training data percentage is {:.2f}\".format(len(X_train)/len(X_df)*100)+\" %\")\n",
    "    #Test accuracy percentage\n",
    "    print(\"Test data percentage is {:.2f}\".format((len(X_test)/len(X_df))*100)+\" %\")\n",
    "\n",
    "    print(\"\\n\")\n",
    "\n",
    "    #Tain and test feature dataset shapes\n",
    "    print(\"Features train shape\"+str(X_train.shape))\n",
    "    print(\"Features test shape\"+str(X_test.shape))\n",
    "\n",
    "    print(\"\\n\")\n",
    "\n",
    "    #Tain and test target dataset shapes\n",
    "    print(\"Target train shape\"+str(y_train.shape))\n",
    "    print(\"Target test shape\"+str(y_test.shape))\n",
    "    \n",
    "    \n",
    "    #Building the model \n",
    "\n",
    "    #importing the DecisionTreeClasssifier\n",
    "    from sklearn.tree import DecisionTreeClassifier\n",
    "\n",
    "    #creating an object of DecisionTreeClasifier\n",
    "    tree = DecisionTreeClassifier(random_state=654,max_depth=max_depth,max_leaf_nodes=max_leaf_nodes,min_samples_leaf=min_samples_leaf)\n",
    "\n",
    "    #fitting the training into model\n",
    "    tree.fit(X_train,y_train)\n",
    "            \n",
    "    #predicting target for DecisionTreeClassifier\n",
    "    y_pred = tree.predict(X_test)\n",
    "    #print(y_pred[0:5])\n",
    "            \n",
    "    #importing accuracy_score from sklearn.metrics\n",
    "    #The accuracy score which helps in calculating the train and test accuracy based on the number of correctly classified data\n",
    "    from sklearn.metrics import accuracy_score\n",
    "\n",
    "    #calculating train accuracy for without scaled data for logistic regression\n",
    "    train_accuracy = tree.score(X_train,y_train)\n",
    "    print(\"\\nTrain accuracy of Decision Tree for Max_Node = {:d}, Max_Leaf_Node = {:d}, Min_Samples_Leaf = {:d} is  {:.2f}\".format(max_depth,max_leaf_nodes,min_samples_leaf,train_accuracy*100)+\"%\")\n",
    "    train_accuracies.append(train_accuracy)\n",
    "\n",
    "    #calculating test accuracy for without scaled data for logistic regression\n",
    "    test_accuracy = accuracy_score(y_test,y_pred)\n",
    "    print(\"Test accuracy of Decision Tree for Max_Node  = {:d}, Max_Leaf_Node = {:d}, Min_Samples_Leaf = {:d} is  {:.2f}\".format(max_depth,max_leaf_nodes,min_samples_leaf,test_accuracy*100)+\"% \\n\\n\")\n",
    "    test_accuracies.append(test_accuracy)\n",
    "    \n",
    "    from sklearn.metrics import classification_report,confusion_matrix\n",
    "    #printing confusion matrix\n",
    "    cnf =  confusion_matrix(y_test,y_pred)\n",
    "    print(\"Confusion Matrix for Max_Node  = {:d}, Max_Leaf_Node = {:d}, Min_Samples_Leaf = {:d} is \\n\".format(max_depth,max_leaf_nodes,min_samples_leaf)+str(cnf)+\"\\n \\n\")\n",
    "    print(peformance_metrics(y_test,y_pred))\n",
    "    \n",
    "    true_positives = cnf[0][0]\n",
    "    print(\"True Positives for model are  : {:d}\".format(true_positives))\n",
    "    TP.append(true_positives)\n",
    "    \n",
    "    false_positives = cnf[1][0]\n",
    "    print(\"False Positives for model are : {:d}\".format(false_positives))\n",
    "    FP.append(false_positives)\n",
    "    \n",
    "    false_negatives = cnf[0][1]\n",
    "    print(\"False Negatives for model are : {:d}\".format(false_negatives))\n",
    "    FN.append(false_negatives)\n",
    "    \n",
    "    true_negatives = cnf[1][1]\n",
    "    print(\"True Negatives for model are  : {:d}\".format(true_negatives)+\"\\n\")\n",
    "    TN.append(true_negatives)\n",
    "    \n",
    "    clf = classification_report(y_test,y_pred)\n",
    "    print(clf)\n",
    "    \n",
    "    from sklearn.metrics import plot_confusion_matrix\n",
    "    plot_confusion_matrix(tree,X_test, y_test,cmap=plt.cm.Blues)\n",
    "    plt.show()\n",
    "    print(\"----------------------------------------------------------------------------------------------------------\")"
   ]
  },
  {
   "cell_type": "markdown",
   "metadata": {},
   "source": [
    "## 4- Using the information from the Confussion Matrix above, calculate the following metrics\n",
    "- **Accuracy :** Accuracy is just the number of predictions that are correct divided by the total number of predictions\n",
    "- **Precision :** Precision means we are considering only those predictions where we predicted class 1 and determining what proportion of those were actually class 1\n",
    "- **Recall :** Recall means we are considering only those predictions where the true class is 1 and determining what proportion of those we predicted to be in class 1\n",
    "- **F score :** F score is the harmonic mean of precision and recall, as there is a precision/recall trade-off, meaning that as you increase one you generally decrease the other, this is another metric that combines both recall and precision \n",
    "<br>\n",
    "\n",
    "- Compare you results to that from python.\n",
    "\n",
    "\n"
   ]
  },
  {
   "cell_type": "markdown",
   "metadata": {},
   "source": [
    "#### Calculating metrics using formula"
   ]
  },
  {
   "cell_type": "code",
   "execution_count": 18,
   "metadata": {},
   "outputs": [
    {
     "name": "stdout",
     "output_type": "stream",
     "text": [
      "For Model with Test percentage = 5.00% and Train percentage = 95.00%\n",
      "\n",
      "Accuracy for DecisionTreeClassifier is \t\t1.0\n",
      "Precision for DecisionTreeClassifier is \t1.0\n",
      "Recall for DecisionTreeClassifier is \t\t1.0\n",
      "F_Score for DecisionTreeClassifier is\t\t1.00 \n",
      "\n",
      "For Model with Test percentage = 10.00% and Train percentage = 90.00%\n",
      "\n",
      "Accuracy for DecisionTreeClassifier is \t\t0.97\n",
      "Precision for DecisionTreeClassifier is \t0.98\n",
      "Recall for DecisionTreeClassifier is \t\t0.99\n",
      "F_Score for DecisionTreeClassifier is\t\t0.98 \n",
      "\n",
      "For Model with Test percentage = 15.00% and Train percentage = 85.00%\n",
      "\n",
      "Accuracy for DecisionTreeClassifier is \t\t0.96\n",
      "Precision for DecisionTreeClassifier is \t0.96\n",
      "Recall for DecisionTreeClassifier is \t\t0.99\n",
      "F_Score for DecisionTreeClassifier is\t\t0.98 \n",
      "\n",
      "For Model with Test percentage = 20.00% and Train percentage = 80.00%\n",
      "\n",
      "Accuracy for DecisionTreeClassifier is \t\t0.93\n",
      "Precision for DecisionTreeClassifier is \t0.95\n",
      "Recall for DecisionTreeClassifier is \t\t0.97\n",
      "F_Score for DecisionTreeClassifier is\t\t0.96 \n",
      "\n"
     ]
    }
   ],
   "source": [
    "#calculating metrics for all the model with different test and train size\n",
    "for i in range(0,len(TP)):\n",
    "    \n",
    "    print(\"For Model with Test percentage = {:.2f}% and Train percentage = {:.2f}\".format(test_size[i]*100,(1-test_size[i])*100)+\"%\\n\")\n",
    "    #calculating the accuracy\n",
    "    accuracy = (TP[i] + TN[i]) / (TP[i] + TN[i] + FP[i] + FN[i])\n",
    "    \n",
    "    #calculating the precision\n",
    "    precision = TP[i] / (TP[i] + FP[i])\n",
    "    \n",
    "    #calculating the recall\n",
    "    recall = TP[i] / (TP[i] + FN[i])\n",
    "    \n",
    "    #calculating the F score\n",
    "    f_score = (2 * precision * recall) / (precision + recall)\n",
    "\n",
    "    #printing the metric values\n",
    "    print(\"Accuracy for DecisionTreeClassifier is \\t\\t\"+str(round(accuracy,2)))\n",
    "    print(\"Precision for DecisionTreeClassifier is \\t\"+str(round(precision,2)))\n",
    "    print(\"Recall for DecisionTreeClassifier is \\t\\t\"+str(round(recall,2)))\n",
    "    print(\"F_Score for DecisionTreeClassifier is\\t\\t{:.2f} \".format(f_score)+\"\\n\")"
   ]
  },
  {
   "cell_type": "markdown",
   "metadata": {},
   "source": [
    "##### On camparing the calculated values with the above confusion matrix for all the test and train size, for parameters `Max_depth = 5`, `Max_leaf_nodes = 15` and `Max_sample_leaf = 10`, we can observe that the values are same."
   ]
  },
  {
   "cell_type": "markdown",
   "metadata": {},
   "source": [
    "# 5- Is it required to scale the data for the Decision Trees model, why?\n",
    "\n"
   ]
  },
  {
   "cell_type": "markdown",
   "metadata": {},
   "source": [
    "- It is not required to scale the data for DecisionTree model, as it calculates the Gini Index\\Entropy and the one with Maximum value is selected as root node and the based on it, the DecisionClassifier forms the intermediate and leaf nodes, where it keep decreasing the impurity of a leaf till a point reached where leaf nodes are having maximum purity.\n",
    "- Although, we can also prune the tree by setting the parameters such as Max_depth, Max_leaf_Nodes, Min_Sample_leaf which we have seen above, where the tree will stop classifying further when those parameter conditions are met.\n",
    "- However, when we are comparing the DecisionTree with other model where data scaling is required, even the DecisionTree should be supplied with Scaled data to bring the comparision to same level. Here, even if we provided normalized data the DecisionTree will still classifiy based on the maximum entropy of the normalized features."
   ]
  },
  {
   "cell_type": "markdown",
   "metadata": {},
   "source": [
    "#### Model on scaled data to compare the performance measures\\metric with data without scaled values"
   ]
  },
  {
   "cell_type": "markdown",
   "metadata": {},
   "source": [
    "- we are developing the DecisionTreeClassifier with parameters values as `max_depth = 5`, `max_leaf_nodes = 15`,& `min_samples_leaf = 10` and `test size of 20%` and `train size of 80%` with scaled features."
   ]
  },
  {
   "cell_type": "markdown",
   "metadata": {},
   "source": [
    "##### Scaling the data using MinMaxScaler"
   ]
  },
  {
   "cell_type": "code",
   "execution_count": 19,
   "metadata": {},
   "outputs": [
    {
     "name": "stdout",
     "output_type": "stream",
     "text": [
      "Training data percentage is 80.00 %\n",
      "Test data percentage is 20.00 %\n"
     ]
    }
   ],
   "source": [
    "#importing MinMaxScaler from sklearn.preprocessing\n",
    "from sklearn.preprocessing import MinMaxScaler\n",
    "\n",
    "#creating an object of MinMaxScaler\n",
    "min_max = MinMaxScaler()\n",
    "\n",
    "#fitting the data\n",
    "min_max.fit(X_train)\n",
    "\n",
    "#Transforming the training data\n",
    "X_train_scaled = min_max.transform(X_train)\n",
    "\n",
    "#Transforming the test data\n",
    "X_test_scaled = min_max.transform(X_test)\n",
    "\n",
    "#Train accuracy percentage\n",
    "print(\"Training data percentage is {:.2f}\".format(len(X_train)/len(X_df)*100)+\" %\")\n",
    "#Test accuracy percentage\n",
    "print(\"Test data percentage is {:.2f}\".format((len(X_test)/len(X_df))*100)+\" %\")\n"
   ]
  },
  {
   "cell_type": "markdown",
   "metadata": {},
   "source": [
    "##### Building model on scaled data"
   ]
  },
  {
   "cell_type": "code",
   "execution_count": 20,
   "metadata": {},
   "outputs": [
    {
     "name": "stdout",
     "output_type": "stream",
     "text": [
      "\n",
      "Train accuracy of Decision Tree for Max_Node = 5, Max_Leaf_Node = 15, Min_Samples_Leaf = 10 is  96.00%\n",
      "Test accuracy of Decision Tree for Max_Node  = 5, Max_Leaf_Node = 15, Min_Samples_Leaf = 10 is  93.00% \n",
      "\n",
      "\n",
      "Confusion Matrix for Max_Node  = 5, Max_Leaf_Node = 15, Min_Samples_Leaf = 10 is \n",
      "[[167   5]\n",
      " [  9  19]]\n",
      " \n",
      "\n",
      "(167, 5, 9, 19)\n",
      "True Positives for model are  : 167\n",
      "False Positives for model are : 9\n",
      "False Negatives for model are : 5\n",
      "True Negatives for model are  : 19\n",
      "\n",
      "              precision    recall  f1-score   support\n",
      "\n",
      "           0       0.95      0.97      0.96       172\n",
      "           1       0.79      0.68      0.73        28\n",
      "\n",
      "    accuracy                           0.93       200\n",
      "   macro avg       0.87      0.82      0.85       200\n",
      "weighted avg       0.93      0.93      0.93       200\n",
      "\n"
     ]
    },
    {
     "data": {
      "image/png": "[encoded data removed]",
      "text/plain": [
       "<Figure size 432x288 with 2 Axes>"
      ]
     },
     "metadata": {
      "needs_background": "light"
     },
     "output_type": "display_data"
    },
    {
     "name": "stdout",
     "output_type": "stream",
     "text": [
      "----------------------------------------------------------------------------------------------------------\n"
     ]
    }
   ],
   "source": [
    "#selecting values from above model paramters having high train and test accuracy\n",
    "max_depth = 5\n",
    "max_leaf_nodes = 15\n",
    "min_samples_leaf = 10\n",
    "\n",
    "#importing the DecisionTreeClasssifier\n",
    "from sklearn.tree import DecisionTreeClassifier\n",
    "\n",
    "#creating an object of DecisionTreeClasifier\n",
    "tree = DecisionTreeClassifier(random_state=654,max_depth=max_depth,max_leaf_nodes=max_leaf_nodes,min_samples_leaf=min_samples_leaf)\n",
    "\n",
    "#fitting the training into model\n",
    "tree.fit(X_train_scaled,y_train)\n",
    "            \n",
    "#predicting target for DecisionTreeClassifier\n",
    "y_pred_scaled = tree.predict(X_test_scaled)\n",
    "#print(y_pred_scaled[0:5])\n",
    "            \n",
    "#importing accuracy_score from sklearn.metrics\n",
    "#The accuracy score which helps in calculating the train and test accuracy based on the number of correctly classified data\n",
    "from sklearn.metrics import accuracy_score\n",
    "\n",
    "#calculating train accuracy for without scaled data for logistic regression\n",
    "train_accuracy = tree.score(X_train_scaled,y_train)\n",
    "print(\"\\nTrain accuracy of Decision Tree for Max_Node = {:d}, Max_Leaf_Node = {:d}, Min_Samples_Leaf = {:d} is  {:.2f}\".format(max_depth,max_leaf_nodes,min_samples_leaf,train_accuracy*100)+\"%\")\n",
    "train_accuracies.append(train_accuracy)\n",
    "\n",
    "#calculating test accuracy for without scaled data for logistic regression\n",
    "test_accuracy = accuracy_score(y_test,y_pred_scaled)\n",
    "print(\"Test accuracy of Decision Tree for Max_Node  = {:d}, Max_Leaf_Node = {:d}, Min_Samples_Leaf = {:d} is  {:.2f}\".format(max_depth,max_leaf_nodes,min_samples_leaf,test_accuracy*100)+\"% \\n\\n\")\n",
    "test_accuracies.append(test_accuracy)\n",
    "    \n",
    "from sklearn.metrics import classification_report,confusion_matrix\n",
    "#printing confusion matrix\n",
    "cnf =  confusion_matrix(y_test,y_pred_scaled)\n",
    "print(\"Confusion Matrix for Max_Node  = {:d}, Max_Leaf_Node = {:d}, Min_Samples_Leaf = {:d} is \\n\".format(max_depth,max_leaf_nodes,min_samples_leaf)+str(cnf)+\"\\n \\n\")\n",
    "print(peformance_metrics(y_test,y_pred_scaled))\n",
    "  \n",
    "true_positives = cnf[0][0]\n",
    "print(\"True Positives for model are  : {:d}\".format(true_positives))\n",
    "    \n",
    "false_positives = cnf[1][0]\n",
    "print(\"False Positives for model are : {:d}\".format(false_positives))\n",
    "    \n",
    "false_negatives = cnf[0][1]\n",
    "print(\"False Negatives for model are : {:d}\".format(false_negatives))\n",
    "    \n",
    "true_negatives = cnf[1][1]\n",
    "print(\"True Negatives for model are  : {:d}\".format(true_negatives)+\"\\n\")\n",
    "    \n",
    "clf = classification_report(y_test,y_pred_scaled)\n",
    "print(clf)\n",
    "    \n",
    "from sklearn.metrics import plot_confusion_matrix\n",
    "plot_confusion_matrix(tree,X_test_scaled, y_test,cmap=plt.cm.Blues)\n",
    "plt.show()\n",
    "print(\"----------------------------------------------------------------------------------------------------------\")"
   ]
  },
  {
   "cell_type": "markdown",
   "metadata": {},
   "source": [
    "##### References:\n",
    "\n",
    "https://matplotlib.org/3.1.1/gallery/lines_bars_and_markers/barchart.html#sphx-glr-gallery-lines-bars-and-markers-barchart-py\n",
    "\n",
    "https://scikit-learn.org/stable/auto_examples/model_selection/plot_confusion_matrix.html#sphx-glr-auto-examples-model-selection-plot-confusion-matrix-py"
   ]
  }
 ],
 "metadata": {
  "kernelspec": {
   "display_name": "Python 3",
   "language": "python",
   "name": "python3"
  },
  "language_info": {
   "codemirror_mode": {
    "name": "ipython",
    "version": 3
   },
   "file_extension": ".py",
   "mimetype": "text/x-python",
   "name": "python",
   "nbconvert_exporter": "python",
   "pygments_lexer": "ipython3",
   "version": "3.7.9"
  }
 },
 "nbformat": 4,
 "nbformat_minor": 4
}
